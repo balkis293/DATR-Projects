{
 "cells": [
  {
   "cell_type": "markdown",
   "metadata": {},
   "source": [
    "<img src=\"http://imgur.com/1ZcRyrc.png\" style=\"float: left; margin: 20px; height: 55px\">\n",
    "\n",
    "# Project 3: Linear Regression and Train/Test Split\n",
    "\n",
    "---"
   ]
  },
  {
   "cell_type": "markdown",
   "metadata": {},
   "source": [
    "# Introduction\n",
    "\n",
    "We've discussed overfitting in the context of bias and variance, and we've touched on some techniques that are used to avoid overfitting (but haven't practiced them yet). In this project, we'll practice a fundamental method for avoiding overfitting that is commonly referred to as: _train/test split validation_. \n",
    "\n",
    "This is similar to something called \"cross-validation\" — in fact, it is a type of cross-validation — in that we will be splitting the data into two subsets:\n",
    "* A subset on which to train our model.\n",
    "* A subset on which to test our model's predictions.\n",
    "\n",
    "This serves two useful purposes:\n",
    "* We prevent overfitting by not using all of the data.\n",
    "* We have some remaining data we can use to evaluate our model.\n",
    "\n",
    "While this may seem like a relatively simple idea, **there are some caveats** to putting it into practice. For example, if you are not careful, it is easy to take a non-random split. Suppose we have salary data on technical professionals that is composed of 80 percent data from California, 20 percent data from elsewhere, and is sorted by state. If we split our data into 80 percent training data and 20 percent testing data, we might inadvertantly select all the California data to train and all the non-California data to test. In this case, we've still overfit on our data set because we did not sufficiently randomize the data.\n",
    "\n",
    "Note: In a situation like this, you could use a technique called _k-fold cross-validation_, which is cross-validation applied to more than two subsets. In particular, in k-fold cross-validation, you'd partition your data into $k$ subsets and train on $k-1$ one of them, holding the last slice for testing. You would do this for each of the possible $k-1$ subsets."
   ]
  },
  {
   "cell_type": "markdown",
   "metadata": {},
   "source": [
    "# Project Requirements\n",
    "\n",
    "The goal of this project will be to create a test-training split to compare multiple models on the same Boston housing data set. For example, you might choose to compare different linear models on the same data.\n",
    "\n",
    "In this project, you'll fit two to three different models on the Boston housing data. For example, you could pick two different subsets of variables, one or more polynomial models, or any other model you'd like. \n",
    "\n",
    "### Here's What We Will Be Doing:\n",
    "\n",
    "* Work with Boston housing data to predict the value of a home\n",
    "* Create a test-train split of the data.\n",
    "* Train your model on the training data.\n",
    "* Evaluate your model on the test data.\n",
    "* Repeat with other variables.\n",
    "* Rank the models by how well they score on the testing data set. \n",
    "* Don't forget to interpret your findings! \n",
    "\n"
   ]
  },
  {
   "cell_type": "markdown",
   "metadata": {},
   "source": [
    "A k-fold cross-validation creates a hold portion of your data set for each iteration of training and validating:\n",
    "\n",
    "![](http://i.imgur.com/0PFrPXJ.png)"
   ]
  },
  {
   "cell_type": "markdown",
   "metadata": {},
   "source": [
    "## Linear Regression\n",
    "\n",
    "As a real estate developer, you are being asked to model the median home price of various houses in the city of Boston using data from the US census. Your goal is to predict a continuous, numeric output (price) based on a combination of discrete features that you choose."
   ]
  },
  {
   "cell_type": "code",
   "execution_count": 381,
   "metadata": {},
   "outputs": [],
   "source": [
    "import matplotlib.pyplot as plt\n",
    "\n",
    "%matplotlib inline"
   ]
  },
  {
   "cell_type": "code",
   "execution_count": 382,
   "metadata": {},
   "outputs": [
    {
     "name": "stdout",
     "output_type": "stream",
     "text": [
      ".. _boston_dataset:\n",
      "\n",
      "Boston house prices dataset\n",
      "---------------------------\n",
      "\n",
      "**Data Set Characteristics:**  \n",
      "\n",
      "    :Number of Instances: 506 \n",
      "\n",
      "    :Number of Attributes: 13 numeric/categorical predictive. Median Value (attribute 14) is usually the target.\n",
      "\n",
      "    :Attribute Information (in order):\n",
      "        - CRIM     per capita crime rate by town\n",
      "        - ZN       proportion of residential land zoned for lots over 25,000 sq.ft.\n",
      "        - INDUS    proportion of non-retail business acres per town\n",
      "        - CHAS     Charles River dummy variable (= 1 if tract bounds river; 0 otherwise)\n",
      "        - NOX      nitric oxides concentration (parts per 10 million)\n",
      "        - RM       average number of rooms per dwelling\n",
      "        - AGE      proportion of owner-occupied units built prior to 1940\n",
      "        - DIS      weighted distances to five Boston employment centres\n",
      "        - RAD      index of accessibility to radial highways\n",
      "        - TAX      full-value property-tax rate per $10,000\n",
      "        - PTRATIO  pupil-teacher ratio by town\n",
      "        - B        1000(Bk - 0.63)^2 where Bk is the proportion of black people by town\n",
      "        - LSTAT    % lower status of the population\n",
      "        - MEDV     Median value of owner-occupied homes in $1000's\n",
      "\n",
      "    :Missing Attribute Values: None\n",
      "\n",
      "    :Creator: Harrison, D. and Rubinfeld, D.L.\n",
      "\n",
      "This is a copy of UCI ML housing dataset.\n",
      "https://archive.ics.uci.edu/ml/machine-learning-databases/housing/\n",
      "\n",
      "\n",
      "This dataset was taken from the StatLib library which is maintained at Carnegie Mellon University.\n",
      "\n",
      "The Boston house-price data of Harrison, D. and Rubinfeld, D.L. 'Hedonic\n",
      "prices and the demand for clean air', J. Environ. Economics & Management,\n",
      "vol.5, 81-102, 1978.   Used in Belsley, Kuh & Welsch, 'Regression diagnostics\n",
      "...', Wiley, 1980.   N.B. Various transformations are used in the table on\n",
      "pages 244-261 of the latter.\n",
      "\n",
      "The Boston house-price data has been used in many machine learning papers that address regression\n",
      "problems.   \n",
      "     \n",
      ".. topic:: References\n",
      "\n",
      "   - Belsley, Kuh & Welsch, 'Regression diagnostics: Identifying Influential Data and Sources of Collinearity', Wiley, 1980. 244-261.\n",
      "   - Quinlan,R. (1993). Combining Instance-Based and Model-Based Learning. In Proceedings on the Tenth International Conference of Machine Learning, 236-243, University of Massachusetts, Amherst. Morgan Kaufmann.\n",
      "\n"
     ]
    },
    {
     "name": "stderr",
     "output_type": "stream",
     "text": [
      "/Users/balkis/opt/anaconda3/lib/python3.9/site-packages/sklearn/utils/deprecation.py:87: FutureWarning: Function load_boston is deprecated; `load_boston` is deprecated in 1.0 and will be removed in 1.2.\n",
      "\n",
      "    The Boston housing prices dataset has an ethical problem. You can refer to\n",
      "    the documentation of this function for further details.\n",
      "\n",
      "    The scikit-learn maintainers therefore strongly discourage the use of this\n",
      "    dataset unless the purpose of the code is to study and educate about\n",
      "    ethical issues in data science and machine learning.\n",
      "\n",
      "    In this special case, you can fetch the dataset from the original\n",
      "    source::\n",
      "\n",
      "        import pandas as pd\n",
      "        import numpy as np\n",
      "\n",
      "\n",
      "        data_url = \"http://lib.stat.cmu.edu/datasets/boston\"\n",
      "        raw_df = pd.read_csv(data_url, sep=\"\\s+\", skiprows=22, header=None)\n",
      "        data = np.hstack([raw_df.values[::2, :], raw_df.values[1::2, :2]])\n",
      "        target = raw_df.values[1::2, 2]\n",
      "\n",
      "    Alternative datasets include the California housing dataset (i.e.\n",
      "    :func:`~sklearn.datasets.fetch_california_housing`) and the Ames housing\n",
      "    dataset. You can load the datasets as follows::\n",
      "\n",
      "        from sklearn.datasets import fetch_california_housing\n",
      "        housing = fetch_california_housing()\n",
      "\n",
      "    for the California housing dataset and::\n",
      "\n",
      "        from sklearn.datasets import fetch_openml\n",
      "        housing = fetch_openml(name=\"house_prices\", as_frame=True)\n",
      "\n",
      "    for the Ames housing dataset.\n",
      "    \n",
      "  warnings.warn(msg, category=FutureWarning)\n"
     ]
    }
   ],
   "source": [
    "import pandas as pd\n",
    "import numpy as np\n",
    "import seaborn as sns\n",
    "from sklearn.datasets import load_boston\n",
    "from sklearn.metrics import r2_score\n",
    "\n",
    "boston = load_boston()\n",
    "\n",
    "X = pd.DataFrame(boston.data,\n",
    "                 columns=boston.feature_names)\n",
    "y = pd.DataFrame(boston.target,\n",
    "                 columns=['MEDV'])\n",
    "\n",
    "print(boston['DESCR'])"
   ]
  },
  {
   "cell_type": "markdown",
   "metadata": {},
   "source": [
    "### REQUIRED: Clean Up Data and Perform Exporatory Data Analysis"
   ]
  },
  {
   "cell_type": "markdown",
   "metadata": {
    "collapsed": true
   },
   "source": [
    "Boston data is from scikit-learn, so it _ought_ to be pretty clean, but you should always perform exploratory data analysis."
   ]
  },
  {
   "cell_type": "code",
   "execution_count": 383,
   "metadata": {},
   "outputs": [
    {
     "data": {
      "text/html": [
       "<div>\n",
       "<style scoped>\n",
       "    .dataframe tbody tr th:only-of-type {\n",
       "        vertical-align: middle;\n",
       "    }\n",
       "\n",
       "    .dataframe tbody tr th {\n",
       "        vertical-align: top;\n",
       "    }\n",
       "\n",
       "    .dataframe thead th {\n",
       "        text-align: right;\n",
       "    }\n",
       "</style>\n",
       "<table border=\"1\" class=\"dataframe\">\n",
       "  <thead>\n",
       "    <tr style=\"text-align: right;\">\n",
       "      <th></th>\n",
       "      <th>MEDV</th>\n",
       "      <th>CRIM</th>\n",
       "      <th>ZN</th>\n",
       "      <th>INDUS</th>\n",
       "      <th>CHAS</th>\n",
       "      <th>NOX</th>\n",
       "      <th>RM</th>\n",
       "      <th>AGE</th>\n",
       "      <th>DIS</th>\n",
       "      <th>RAD</th>\n",
       "      <th>TAX</th>\n",
       "      <th>PTRATIO</th>\n",
       "      <th>B</th>\n",
       "      <th>LSTAT</th>\n",
       "    </tr>\n",
       "  </thead>\n",
       "  <tbody>\n",
       "    <tr>\n",
       "      <th>0</th>\n",
       "      <td>24.0</td>\n",
       "      <td>0.00632</td>\n",
       "      <td>18.0</td>\n",
       "      <td>2.31</td>\n",
       "      <td>0.0</td>\n",
       "      <td>0.538</td>\n",
       "      <td>6.575</td>\n",
       "      <td>65.2</td>\n",
       "      <td>4.0900</td>\n",
       "      <td>1.0</td>\n",
       "      <td>296.0</td>\n",
       "      <td>15.3</td>\n",
       "      <td>396.90</td>\n",
       "      <td>4.98</td>\n",
       "    </tr>\n",
       "    <tr>\n",
       "      <th>1</th>\n",
       "      <td>21.6</td>\n",
       "      <td>0.02731</td>\n",
       "      <td>0.0</td>\n",
       "      <td>7.07</td>\n",
       "      <td>0.0</td>\n",
       "      <td>0.469</td>\n",
       "      <td>6.421</td>\n",
       "      <td>78.9</td>\n",
       "      <td>4.9671</td>\n",
       "      <td>2.0</td>\n",
       "      <td>242.0</td>\n",
       "      <td>17.8</td>\n",
       "      <td>396.90</td>\n",
       "      <td>9.14</td>\n",
       "    </tr>\n",
       "    <tr>\n",
       "      <th>2</th>\n",
       "      <td>34.7</td>\n",
       "      <td>0.02729</td>\n",
       "      <td>0.0</td>\n",
       "      <td>7.07</td>\n",
       "      <td>0.0</td>\n",
       "      <td>0.469</td>\n",
       "      <td>7.185</td>\n",
       "      <td>61.1</td>\n",
       "      <td>4.9671</td>\n",
       "      <td>2.0</td>\n",
       "      <td>242.0</td>\n",
       "      <td>17.8</td>\n",
       "      <td>392.83</td>\n",
       "      <td>4.03</td>\n",
       "    </tr>\n",
       "    <tr>\n",
       "      <th>3</th>\n",
       "      <td>33.4</td>\n",
       "      <td>0.03237</td>\n",
       "      <td>0.0</td>\n",
       "      <td>2.18</td>\n",
       "      <td>0.0</td>\n",
       "      <td>0.458</td>\n",
       "      <td>6.998</td>\n",
       "      <td>45.8</td>\n",
       "      <td>6.0622</td>\n",
       "      <td>3.0</td>\n",
       "      <td>222.0</td>\n",
       "      <td>18.7</td>\n",
       "      <td>394.63</td>\n",
       "      <td>2.94</td>\n",
       "    </tr>\n",
       "    <tr>\n",
       "      <th>4</th>\n",
       "      <td>36.2</td>\n",
       "      <td>0.06905</td>\n",
       "      <td>0.0</td>\n",
       "      <td>2.18</td>\n",
       "      <td>0.0</td>\n",
       "      <td>0.458</td>\n",
       "      <td>7.147</td>\n",
       "      <td>54.2</td>\n",
       "      <td>6.0622</td>\n",
       "      <td>3.0</td>\n",
       "      <td>222.0</td>\n",
       "      <td>18.7</td>\n",
       "      <td>396.90</td>\n",
       "      <td>5.33</td>\n",
       "    </tr>\n",
       "  </tbody>\n",
       "</table>\n",
       "</div>"
      ],
      "text/plain": [
       "   MEDV     CRIM    ZN  INDUS  CHAS    NOX     RM   AGE     DIS  RAD    TAX  \\\n",
       "0  24.0  0.00632  18.0   2.31   0.0  0.538  6.575  65.2  4.0900  1.0  296.0   \n",
       "1  21.6  0.02731   0.0   7.07   0.0  0.469  6.421  78.9  4.9671  2.0  242.0   \n",
       "2  34.7  0.02729   0.0   7.07   0.0  0.469  7.185  61.1  4.9671  2.0  242.0   \n",
       "3  33.4  0.03237   0.0   2.18   0.0  0.458  6.998  45.8  6.0622  3.0  222.0   \n",
       "4  36.2  0.06905   0.0   2.18   0.0  0.458  7.147  54.2  6.0622  3.0  222.0   \n",
       "\n",
       "   PTRATIO       B  LSTAT  \n",
       "0     15.3  396.90   4.98  \n",
       "1     17.8  396.90   9.14  \n",
       "2     17.8  392.83   4.03  \n",
       "3     18.7  394.63   2.94  \n",
       "4     18.7  396.90   5.33  "
      ]
     },
     "execution_count": 383,
     "metadata": {},
     "output_type": "execute_result"
    }
   ],
   "source": [
    "# Exploratory data analysis.\n",
    "boston = pd.concat([y, X], axis=1)\n",
    "boston.head()\n",
    "# Include: total nulls, index, data types, shape, summary statistics, and the number of unique values for each column\n"
   ]
  },
  {
   "cell_type": "code",
   "execution_count": 384,
   "metadata": {},
   "outputs": [
    {
     "data": {
      "text/plain": [
       "RangeIndex(start=0, stop=506, step=1)"
      ]
     },
     "execution_count": 384,
     "metadata": {},
     "output_type": "execute_result"
    }
   ],
   "source": [
    "boston.index"
   ]
  },
  {
   "cell_type": "code",
   "execution_count": 385,
   "metadata": {},
   "outputs": [
    {
     "data": {
      "text/plain": [
       "Index(['MEDV', 'CRIM', 'ZN', 'INDUS', 'CHAS', 'NOX', 'RM', 'AGE', 'DIS', 'RAD',\n",
       "       'TAX', 'PTRATIO', 'B', 'LSTAT'],\n",
       "      dtype='object')"
      ]
     },
     "execution_count": 385,
     "metadata": {},
     "output_type": "execute_result"
    }
   ],
   "source": [
    "boston.columns"
   ]
  },
  {
   "cell_type": "code",
   "execution_count": 386,
   "metadata": {},
   "outputs": [
    {
     "data": {
      "text/plain": [
       "0      24.0\n",
       "1      21.6\n",
       "2      34.7\n",
       "3      33.4\n",
       "4      36.2\n",
       "       ... \n",
       "501    22.4\n",
       "502    20.6\n",
       "503    23.9\n",
       "504    22.0\n",
       "505    11.9\n",
       "Name: MEDV, Length: 506, dtype: float64"
      ]
     },
     "execution_count": 386,
     "metadata": {},
     "output_type": "execute_result"
    }
   ],
   "source": [
    "boston[boston.columns[0]]"
   ]
  },
  {
   "cell_type": "code",
   "execution_count": 387,
   "metadata": {},
   "outputs": [
    {
     "data": {
      "text/plain": [
       "MEDV       0\n",
       "CRIM       0\n",
       "ZN         0\n",
       "INDUS      0\n",
       "CHAS       0\n",
       "NOX        0\n",
       "RM         0\n",
       "AGE        0\n",
       "DIS        0\n",
       "RAD        0\n",
       "TAX        0\n",
       "PTRATIO    0\n",
       "B          0\n",
       "LSTAT      0\n",
       "dtype: int64"
      ]
     },
     "execution_count": 387,
     "metadata": {},
     "output_type": "execute_result"
    }
   ],
   "source": [
    "boston.isnull().sum()"
   ]
  },
  {
   "cell_type": "code",
   "execution_count": 388,
   "metadata": {},
   "outputs": [
    {
     "data": {
      "text/plain": [
       "MEDV       float64\n",
       "CRIM       float64\n",
       "ZN         float64\n",
       "INDUS      float64\n",
       "CHAS       float64\n",
       "NOX        float64\n",
       "RM         float64\n",
       "AGE        float64\n",
       "DIS        float64\n",
       "RAD        float64\n",
       "TAX        float64\n",
       "PTRATIO    float64\n",
       "B          float64\n",
       "LSTAT      float64\n",
       "dtype: object"
      ]
     },
     "execution_count": 388,
     "metadata": {},
     "output_type": "execute_result"
    }
   ],
   "source": [
    "boston.dtypes"
   ]
  },
  {
   "cell_type": "code",
   "execution_count": 389,
   "metadata": {},
   "outputs": [
    {
     "data": {
      "text/plain": [
       "MEDV       229\n",
       "CRIM       504\n",
       "ZN          26\n",
       "INDUS       76\n",
       "CHAS         2\n",
       "NOX         81\n",
       "RM         446\n",
       "AGE        356\n",
       "DIS        412\n",
       "RAD          9\n",
       "TAX         66\n",
       "PTRATIO     46\n",
       "B          357\n",
       "LSTAT      455\n",
       "dtype: int64"
      ]
     },
     "execution_count": 389,
     "metadata": {},
     "output_type": "execute_result"
    }
   ],
   "source": [
    "boston.nunique()"
   ]
  },
  {
   "cell_type": "code",
   "execution_count": 390,
   "metadata": {},
   "outputs": [
    {
     "data": {
      "text/plain": [
       "(506, 14)"
      ]
     },
     "execution_count": 390,
     "metadata": {},
     "output_type": "execute_result"
    }
   ],
   "source": [
    "boston.shape"
   ]
  },
  {
   "cell_type": "code",
   "execution_count": 391,
   "metadata": {},
   "outputs": [
    {
     "data": {
      "text/html": [
       "<div>\n",
       "<style scoped>\n",
       "    .dataframe tbody tr th:only-of-type {\n",
       "        vertical-align: middle;\n",
       "    }\n",
       "\n",
       "    .dataframe tbody tr th {\n",
       "        vertical-align: top;\n",
       "    }\n",
       "\n",
       "    .dataframe thead th {\n",
       "        text-align: right;\n",
       "    }\n",
       "</style>\n",
       "<table border=\"1\" class=\"dataframe\">\n",
       "  <thead>\n",
       "    <tr style=\"text-align: right;\">\n",
       "      <th></th>\n",
       "      <th>MEDV</th>\n",
       "      <th>CRIM</th>\n",
       "      <th>ZN</th>\n",
       "      <th>INDUS</th>\n",
       "      <th>CHAS</th>\n",
       "      <th>NOX</th>\n",
       "      <th>RM</th>\n",
       "      <th>AGE</th>\n",
       "      <th>DIS</th>\n",
       "      <th>RAD</th>\n",
       "      <th>TAX</th>\n",
       "      <th>PTRATIO</th>\n",
       "      <th>B</th>\n",
       "      <th>LSTAT</th>\n",
       "    </tr>\n",
       "  </thead>\n",
       "  <tbody>\n",
       "    <tr>\n",
       "      <th>count</th>\n",
       "      <td>506.000000</td>\n",
       "      <td>506.000000</td>\n",
       "      <td>506.000000</td>\n",
       "      <td>506.000000</td>\n",
       "      <td>506.000000</td>\n",
       "      <td>506.000000</td>\n",
       "      <td>506.000000</td>\n",
       "      <td>506.000000</td>\n",
       "      <td>506.000000</td>\n",
       "      <td>506.000000</td>\n",
       "      <td>506.000000</td>\n",
       "      <td>506.000000</td>\n",
       "      <td>506.000000</td>\n",
       "      <td>506.000000</td>\n",
       "    </tr>\n",
       "    <tr>\n",
       "      <th>mean</th>\n",
       "      <td>22.532806</td>\n",
       "      <td>3.613524</td>\n",
       "      <td>11.363636</td>\n",
       "      <td>11.136779</td>\n",
       "      <td>0.069170</td>\n",
       "      <td>0.554695</td>\n",
       "      <td>6.284634</td>\n",
       "      <td>68.574901</td>\n",
       "      <td>3.795043</td>\n",
       "      <td>9.549407</td>\n",
       "      <td>408.237154</td>\n",
       "      <td>18.455534</td>\n",
       "      <td>356.674032</td>\n",
       "      <td>12.653063</td>\n",
       "    </tr>\n",
       "    <tr>\n",
       "      <th>std</th>\n",
       "      <td>9.197104</td>\n",
       "      <td>8.601545</td>\n",
       "      <td>23.322453</td>\n",
       "      <td>6.860353</td>\n",
       "      <td>0.253994</td>\n",
       "      <td>0.115878</td>\n",
       "      <td>0.702617</td>\n",
       "      <td>28.148861</td>\n",
       "      <td>2.105710</td>\n",
       "      <td>8.707259</td>\n",
       "      <td>168.537116</td>\n",
       "      <td>2.164946</td>\n",
       "      <td>91.294864</td>\n",
       "      <td>7.141062</td>\n",
       "    </tr>\n",
       "    <tr>\n",
       "      <th>min</th>\n",
       "      <td>5.000000</td>\n",
       "      <td>0.006320</td>\n",
       "      <td>0.000000</td>\n",
       "      <td>0.460000</td>\n",
       "      <td>0.000000</td>\n",
       "      <td>0.385000</td>\n",
       "      <td>3.561000</td>\n",
       "      <td>2.900000</td>\n",
       "      <td>1.129600</td>\n",
       "      <td>1.000000</td>\n",
       "      <td>187.000000</td>\n",
       "      <td>12.600000</td>\n",
       "      <td>0.320000</td>\n",
       "      <td>1.730000</td>\n",
       "    </tr>\n",
       "    <tr>\n",
       "      <th>25%</th>\n",
       "      <td>17.025000</td>\n",
       "      <td>0.082045</td>\n",
       "      <td>0.000000</td>\n",
       "      <td>5.190000</td>\n",
       "      <td>0.000000</td>\n",
       "      <td>0.449000</td>\n",
       "      <td>5.885500</td>\n",
       "      <td>45.025000</td>\n",
       "      <td>2.100175</td>\n",
       "      <td>4.000000</td>\n",
       "      <td>279.000000</td>\n",
       "      <td>17.400000</td>\n",
       "      <td>375.377500</td>\n",
       "      <td>6.950000</td>\n",
       "    </tr>\n",
       "    <tr>\n",
       "      <th>50%</th>\n",
       "      <td>21.200000</td>\n",
       "      <td>0.256510</td>\n",
       "      <td>0.000000</td>\n",
       "      <td>9.690000</td>\n",
       "      <td>0.000000</td>\n",
       "      <td>0.538000</td>\n",
       "      <td>6.208500</td>\n",
       "      <td>77.500000</td>\n",
       "      <td>3.207450</td>\n",
       "      <td>5.000000</td>\n",
       "      <td>330.000000</td>\n",
       "      <td>19.050000</td>\n",
       "      <td>391.440000</td>\n",
       "      <td>11.360000</td>\n",
       "    </tr>\n",
       "    <tr>\n",
       "      <th>75%</th>\n",
       "      <td>25.000000</td>\n",
       "      <td>3.677083</td>\n",
       "      <td>12.500000</td>\n",
       "      <td>18.100000</td>\n",
       "      <td>0.000000</td>\n",
       "      <td>0.624000</td>\n",
       "      <td>6.623500</td>\n",
       "      <td>94.075000</td>\n",
       "      <td>5.188425</td>\n",
       "      <td>24.000000</td>\n",
       "      <td>666.000000</td>\n",
       "      <td>20.200000</td>\n",
       "      <td>396.225000</td>\n",
       "      <td>16.955000</td>\n",
       "    </tr>\n",
       "    <tr>\n",
       "      <th>max</th>\n",
       "      <td>50.000000</td>\n",
       "      <td>88.976200</td>\n",
       "      <td>100.000000</td>\n",
       "      <td>27.740000</td>\n",
       "      <td>1.000000</td>\n",
       "      <td>0.871000</td>\n",
       "      <td>8.780000</td>\n",
       "      <td>100.000000</td>\n",
       "      <td>12.126500</td>\n",
       "      <td>24.000000</td>\n",
       "      <td>711.000000</td>\n",
       "      <td>22.000000</td>\n",
       "      <td>396.900000</td>\n",
       "      <td>37.970000</td>\n",
       "    </tr>\n",
       "  </tbody>\n",
       "</table>\n",
       "</div>"
      ],
      "text/plain": [
       "             MEDV        CRIM          ZN       INDUS        CHAS         NOX  \\\n",
       "count  506.000000  506.000000  506.000000  506.000000  506.000000  506.000000   \n",
       "mean    22.532806    3.613524   11.363636   11.136779    0.069170    0.554695   \n",
       "std      9.197104    8.601545   23.322453    6.860353    0.253994    0.115878   \n",
       "min      5.000000    0.006320    0.000000    0.460000    0.000000    0.385000   \n",
       "25%     17.025000    0.082045    0.000000    5.190000    0.000000    0.449000   \n",
       "50%     21.200000    0.256510    0.000000    9.690000    0.000000    0.538000   \n",
       "75%     25.000000    3.677083   12.500000   18.100000    0.000000    0.624000   \n",
       "max     50.000000   88.976200  100.000000   27.740000    1.000000    0.871000   \n",
       "\n",
       "               RM         AGE         DIS         RAD         TAX     PTRATIO  \\\n",
       "count  506.000000  506.000000  506.000000  506.000000  506.000000  506.000000   \n",
       "mean     6.284634   68.574901    3.795043    9.549407  408.237154   18.455534   \n",
       "std      0.702617   28.148861    2.105710    8.707259  168.537116    2.164946   \n",
       "min      3.561000    2.900000    1.129600    1.000000  187.000000   12.600000   \n",
       "25%      5.885500   45.025000    2.100175    4.000000  279.000000   17.400000   \n",
       "50%      6.208500   77.500000    3.207450    5.000000  330.000000   19.050000   \n",
       "75%      6.623500   94.075000    5.188425   24.000000  666.000000   20.200000   \n",
       "max      8.780000  100.000000   12.126500   24.000000  711.000000   22.000000   \n",
       "\n",
       "                B       LSTAT  \n",
       "count  506.000000  506.000000  \n",
       "mean   356.674032   12.653063  \n",
       "std     91.294864    7.141062  \n",
       "min      0.320000    1.730000  \n",
       "25%    375.377500    6.950000  \n",
       "50%    391.440000   11.360000  \n",
       "75%    396.225000   16.955000  \n",
       "max    396.900000   37.970000  "
      ]
     },
     "execution_count": 391,
     "metadata": {},
     "output_type": "execute_result"
    }
   ],
   "source": [
    "boston.describe()"
   ]
  },
  {
   "cell_type": "markdown",
   "metadata": {},
   "source": [
    "## Using `scikit-learn` Linear Regression\n",
    "\n",
    "### REQUIRED: Pick 3-4 predictors (i.e. CRIM, ZN, etc...) that you will use to predict your target variable, MEDV.\n",
    "Score and plot your predictions. What do these results tell us?"
   ]
  },
  {
   "cell_type": "code",
   "execution_count": 414,
   "metadata": {},
   "outputs": [
    {
     "data": {
      "text/html": [
       "<div>\n",
       "<style scoped>\n",
       "    .dataframe tbody tr th:only-of-type {\n",
       "        vertical-align: middle;\n",
       "    }\n",
       "\n",
       "    .dataframe tbody tr th {\n",
       "        vertical-align: top;\n",
       "    }\n",
       "\n",
       "    .dataframe thead th {\n",
       "        text-align: right;\n",
       "    }\n",
       "</style>\n",
       "<table border=\"1\" class=\"dataframe\">\n",
       "  <thead>\n",
       "    <tr style=\"text-align: right;\">\n",
       "      <th></th>\n",
       "      <th>MEDV</th>\n",
       "      <th>CRIM</th>\n",
       "      <th>ZN</th>\n",
       "      <th>INDUS</th>\n",
       "      <th>CHAS</th>\n",
       "      <th>NOX</th>\n",
       "      <th>RM</th>\n",
       "      <th>AGE</th>\n",
       "      <th>DIS</th>\n",
       "      <th>RAD</th>\n",
       "      <th>TAX</th>\n",
       "      <th>PTRATIO</th>\n",
       "      <th>B</th>\n",
       "      <th>LSTAT</th>\n",
       "    </tr>\n",
       "  </thead>\n",
       "  <tbody>\n",
       "    <tr>\n",
       "      <th>MEDV</th>\n",
       "      <td>1.000000</td>\n",
       "      <td>-0.388305</td>\n",
       "      <td>0.360445</td>\n",
       "      <td>-0.483725</td>\n",
       "      <td>0.175260</td>\n",
       "      <td>-0.427321</td>\n",
       "      <td>0.695360</td>\n",
       "      <td>-0.376955</td>\n",
       "      <td>0.249929</td>\n",
       "      <td>-0.381626</td>\n",
       "      <td>-0.468536</td>\n",
       "      <td>-0.507787</td>\n",
       "      <td>0.333461</td>\n",
       "      <td>-0.737663</td>\n",
       "    </tr>\n",
       "    <tr>\n",
       "      <th>CRIM</th>\n",
       "      <td>-0.388305</td>\n",
       "      <td>1.000000</td>\n",
       "      <td>-0.200469</td>\n",
       "      <td>0.406583</td>\n",
       "      <td>-0.055892</td>\n",
       "      <td>0.420972</td>\n",
       "      <td>-0.219247</td>\n",
       "      <td>0.352734</td>\n",
       "      <td>-0.379670</td>\n",
       "      <td>0.625505</td>\n",
       "      <td>0.582764</td>\n",
       "      <td>0.289946</td>\n",
       "      <td>-0.385064</td>\n",
       "      <td>0.455621</td>\n",
       "    </tr>\n",
       "    <tr>\n",
       "      <th>ZN</th>\n",
       "      <td>0.360445</td>\n",
       "      <td>-0.200469</td>\n",
       "      <td>1.000000</td>\n",
       "      <td>-0.533828</td>\n",
       "      <td>-0.042697</td>\n",
       "      <td>-0.516604</td>\n",
       "      <td>0.311991</td>\n",
       "      <td>-0.569537</td>\n",
       "      <td>0.664408</td>\n",
       "      <td>-0.311948</td>\n",
       "      <td>-0.314563</td>\n",
       "      <td>-0.391679</td>\n",
       "      <td>0.175520</td>\n",
       "      <td>-0.412995</td>\n",
       "    </tr>\n",
       "    <tr>\n",
       "      <th>INDUS</th>\n",
       "      <td>-0.483725</td>\n",
       "      <td>0.406583</td>\n",
       "      <td>-0.533828</td>\n",
       "      <td>1.000000</td>\n",
       "      <td>0.062938</td>\n",
       "      <td>0.763651</td>\n",
       "      <td>-0.391676</td>\n",
       "      <td>0.644779</td>\n",
       "      <td>-0.708027</td>\n",
       "      <td>0.595129</td>\n",
       "      <td>0.720760</td>\n",
       "      <td>0.383248</td>\n",
       "      <td>-0.356977</td>\n",
       "      <td>0.603800</td>\n",
       "    </tr>\n",
       "    <tr>\n",
       "      <th>CHAS</th>\n",
       "      <td>0.175260</td>\n",
       "      <td>-0.055892</td>\n",
       "      <td>-0.042697</td>\n",
       "      <td>0.062938</td>\n",
       "      <td>1.000000</td>\n",
       "      <td>0.091203</td>\n",
       "      <td>0.091251</td>\n",
       "      <td>0.086518</td>\n",
       "      <td>-0.099176</td>\n",
       "      <td>-0.007368</td>\n",
       "      <td>-0.035587</td>\n",
       "      <td>-0.121515</td>\n",
       "      <td>0.048788</td>\n",
       "      <td>-0.053929</td>\n",
       "    </tr>\n",
       "    <tr>\n",
       "      <th>NOX</th>\n",
       "      <td>-0.427321</td>\n",
       "      <td>0.420972</td>\n",
       "      <td>-0.516604</td>\n",
       "      <td>0.763651</td>\n",
       "      <td>0.091203</td>\n",
       "      <td>1.000000</td>\n",
       "      <td>-0.302188</td>\n",
       "      <td>0.731470</td>\n",
       "      <td>-0.769230</td>\n",
       "      <td>0.611441</td>\n",
       "      <td>0.668023</td>\n",
       "      <td>0.188933</td>\n",
       "      <td>-0.380051</td>\n",
       "      <td>0.590879</td>\n",
       "    </tr>\n",
       "    <tr>\n",
       "      <th>RM</th>\n",
       "      <td>0.695360</td>\n",
       "      <td>-0.219247</td>\n",
       "      <td>0.311991</td>\n",
       "      <td>-0.391676</td>\n",
       "      <td>0.091251</td>\n",
       "      <td>-0.302188</td>\n",
       "      <td>1.000000</td>\n",
       "      <td>-0.240265</td>\n",
       "      <td>0.205246</td>\n",
       "      <td>-0.209847</td>\n",
       "      <td>-0.292048</td>\n",
       "      <td>-0.355501</td>\n",
       "      <td>0.128069</td>\n",
       "      <td>-0.613808</td>\n",
       "    </tr>\n",
       "    <tr>\n",
       "      <th>AGE</th>\n",
       "      <td>-0.376955</td>\n",
       "      <td>0.352734</td>\n",
       "      <td>-0.569537</td>\n",
       "      <td>0.644779</td>\n",
       "      <td>0.086518</td>\n",
       "      <td>0.731470</td>\n",
       "      <td>-0.240265</td>\n",
       "      <td>1.000000</td>\n",
       "      <td>-0.747881</td>\n",
       "      <td>0.456022</td>\n",
       "      <td>0.506456</td>\n",
       "      <td>0.261515</td>\n",
       "      <td>-0.273534</td>\n",
       "      <td>0.602339</td>\n",
       "    </tr>\n",
       "    <tr>\n",
       "      <th>DIS</th>\n",
       "      <td>0.249929</td>\n",
       "      <td>-0.379670</td>\n",
       "      <td>0.664408</td>\n",
       "      <td>-0.708027</td>\n",
       "      <td>-0.099176</td>\n",
       "      <td>-0.769230</td>\n",
       "      <td>0.205246</td>\n",
       "      <td>-0.747881</td>\n",
       "      <td>1.000000</td>\n",
       "      <td>-0.494588</td>\n",
       "      <td>-0.534432</td>\n",
       "      <td>-0.232471</td>\n",
       "      <td>0.291512</td>\n",
       "      <td>-0.496996</td>\n",
       "    </tr>\n",
       "    <tr>\n",
       "      <th>RAD</th>\n",
       "      <td>-0.381626</td>\n",
       "      <td>0.625505</td>\n",
       "      <td>-0.311948</td>\n",
       "      <td>0.595129</td>\n",
       "      <td>-0.007368</td>\n",
       "      <td>0.611441</td>\n",
       "      <td>-0.209847</td>\n",
       "      <td>0.456022</td>\n",
       "      <td>-0.494588</td>\n",
       "      <td>1.000000</td>\n",
       "      <td>0.910228</td>\n",
       "      <td>0.464741</td>\n",
       "      <td>-0.444413</td>\n",
       "      <td>0.488676</td>\n",
       "    </tr>\n",
       "    <tr>\n",
       "      <th>TAX</th>\n",
       "      <td>-0.468536</td>\n",
       "      <td>0.582764</td>\n",
       "      <td>-0.314563</td>\n",
       "      <td>0.720760</td>\n",
       "      <td>-0.035587</td>\n",
       "      <td>0.668023</td>\n",
       "      <td>-0.292048</td>\n",
       "      <td>0.506456</td>\n",
       "      <td>-0.534432</td>\n",
       "      <td>0.910228</td>\n",
       "      <td>1.000000</td>\n",
       "      <td>0.460853</td>\n",
       "      <td>-0.441808</td>\n",
       "      <td>0.543993</td>\n",
       "    </tr>\n",
       "    <tr>\n",
       "      <th>PTRATIO</th>\n",
       "      <td>-0.507787</td>\n",
       "      <td>0.289946</td>\n",
       "      <td>-0.391679</td>\n",
       "      <td>0.383248</td>\n",
       "      <td>-0.121515</td>\n",
       "      <td>0.188933</td>\n",
       "      <td>-0.355501</td>\n",
       "      <td>0.261515</td>\n",
       "      <td>-0.232471</td>\n",
       "      <td>0.464741</td>\n",
       "      <td>0.460853</td>\n",
       "      <td>1.000000</td>\n",
       "      <td>-0.177383</td>\n",
       "      <td>0.374044</td>\n",
       "    </tr>\n",
       "    <tr>\n",
       "      <th>B</th>\n",
       "      <td>0.333461</td>\n",
       "      <td>-0.385064</td>\n",
       "      <td>0.175520</td>\n",
       "      <td>-0.356977</td>\n",
       "      <td>0.048788</td>\n",
       "      <td>-0.380051</td>\n",
       "      <td>0.128069</td>\n",
       "      <td>-0.273534</td>\n",
       "      <td>0.291512</td>\n",
       "      <td>-0.444413</td>\n",
       "      <td>-0.441808</td>\n",
       "      <td>-0.177383</td>\n",
       "      <td>1.000000</td>\n",
       "      <td>-0.366087</td>\n",
       "    </tr>\n",
       "    <tr>\n",
       "      <th>LSTAT</th>\n",
       "      <td>-0.737663</td>\n",
       "      <td>0.455621</td>\n",
       "      <td>-0.412995</td>\n",
       "      <td>0.603800</td>\n",
       "      <td>-0.053929</td>\n",
       "      <td>0.590879</td>\n",
       "      <td>-0.613808</td>\n",
       "      <td>0.602339</td>\n",
       "      <td>-0.496996</td>\n",
       "      <td>0.488676</td>\n",
       "      <td>0.543993</td>\n",
       "      <td>0.374044</td>\n",
       "      <td>-0.366087</td>\n",
       "      <td>1.000000</td>\n",
       "    </tr>\n",
       "  </tbody>\n",
       "</table>\n",
       "</div>"
      ],
      "text/plain": [
       "             MEDV      CRIM        ZN     INDUS      CHAS       NOX        RM  \\\n",
       "MEDV     1.000000 -0.388305  0.360445 -0.483725  0.175260 -0.427321  0.695360   \n",
       "CRIM    -0.388305  1.000000 -0.200469  0.406583 -0.055892  0.420972 -0.219247   \n",
       "ZN       0.360445 -0.200469  1.000000 -0.533828 -0.042697 -0.516604  0.311991   \n",
       "INDUS   -0.483725  0.406583 -0.533828  1.000000  0.062938  0.763651 -0.391676   \n",
       "CHAS     0.175260 -0.055892 -0.042697  0.062938  1.000000  0.091203  0.091251   \n",
       "NOX     -0.427321  0.420972 -0.516604  0.763651  0.091203  1.000000 -0.302188   \n",
       "RM       0.695360 -0.219247  0.311991 -0.391676  0.091251 -0.302188  1.000000   \n",
       "AGE     -0.376955  0.352734 -0.569537  0.644779  0.086518  0.731470 -0.240265   \n",
       "DIS      0.249929 -0.379670  0.664408 -0.708027 -0.099176 -0.769230  0.205246   \n",
       "RAD     -0.381626  0.625505 -0.311948  0.595129 -0.007368  0.611441 -0.209847   \n",
       "TAX     -0.468536  0.582764 -0.314563  0.720760 -0.035587  0.668023 -0.292048   \n",
       "PTRATIO -0.507787  0.289946 -0.391679  0.383248 -0.121515  0.188933 -0.355501   \n",
       "B        0.333461 -0.385064  0.175520 -0.356977  0.048788 -0.380051  0.128069   \n",
       "LSTAT   -0.737663  0.455621 -0.412995  0.603800 -0.053929  0.590879 -0.613808   \n",
       "\n",
       "              AGE       DIS       RAD       TAX   PTRATIO         B     LSTAT  \n",
       "MEDV    -0.376955  0.249929 -0.381626 -0.468536 -0.507787  0.333461 -0.737663  \n",
       "CRIM     0.352734 -0.379670  0.625505  0.582764  0.289946 -0.385064  0.455621  \n",
       "ZN      -0.569537  0.664408 -0.311948 -0.314563 -0.391679  0.175520 -0.412995  \n",
       "INDUS    0.644779 -0.708027  0.595129  0.720760  0.383248 -0.356977  0.603800  \n",
       "CHAS     0.086518 -0.099176 -0.007368 -0.035587 -0.121515  0.048788 -0.053929  \n",
       "NOX      0.731470 -0.769230  0.611441  0.668023  0.188933 -0.380051  0.590879  \n",
       "RM      -0.240265  0.205246 -0.209847 -0.292048 -0.355501  0.128069 -0.613808  \n",
       "AGE      1.000000 -0.747881  0.456022  0.506456  0.261515 -0.273534  0.602339  \n",
       "DIS     -0.747881  1.000000 -0.494588 -0.534432 -0.232471  0.291512 -0.496996  \n",
       "RAD      0.456022 -0.494588  1.000000  0.910228  0.464741 -0.444413  0.488676  \n",
       "TAX      0.506456 -0.534432  0.910228  1.000000  0.460853 -0.441808  0.543993  \n",
       "PTRATIO  0.261515 -0.232471  0.464741  0.460853  1.000000 -0.177383  0.374044  \n",
       "B       -0.273534  0.291512 -0.444413 -0.441808 -0.177383  1.000000 -0.366087  \n",
       "LSTAT    0.602339 -0.496996  0.488676  0.543993  0.374044 -0.366087  1.000000  "
      ]
     },
     "execution_count": 414,
     "metadata": {},
     "output_type": "execute_result"
    }
   ],
   "source": [
    "boston.corr()"
   ]
  },
  {
   "cell_type": "code",
   "execution_count": 393,
   "metadata": {},
   "outputs": [
    {
     "data": {
      "text/plain": [
       "<AxesSubplot:>"
      ]
     },
     "execution_count": 393,
     "metadata": {},
     "output_type": "execute_result"
    },
    {
     "data": {
      "image/png": "[encoded data removed]",
      "text/plain": [
       "<Figure size 432x288 with 2 Axes>"
      ]
     },
     "metadata": {
      "needs_background": "light"
     },
     "output_type": "display_data"
    }
   ],
   "source": [
    "sns.heatmap(boston.corr())\n",
    "#looks like CRIM, RAD, TAX, RM, PTRATIO, LSTAT, AGE, INDUS, NOX, RAD have strong r/s with MEDV"
   ]
  },
  {
   "cell_type": "code",
   "execution_count": 423,
   "metadata": {},
   "outputs": [
    {
     "data": {
      "text/html": [
       "<div>\n",
       "<style scoped>\n",
       "    .dataframe tbody tr th:only-of-type {\n",
       "        vertical-align: middle;\n",
       "    }\n",
       "\n",
       "    .dataframe tbody tr th {\n",
       "        vertical-align: top;\n",
       "    }\n",
       "\n",
       "    .dataframe thead th {\n",
       "        text-align: right;\n",
       "    }\n",
       "</style>\n",
       "<table border=\"1\" class=\"dataframe\">\n",
       "  <thead>\n",
       "    <tr style=\"text-align: right;\">\n",
       "      <th></th>\n",
       "      <th>feature</th>\n",
       "      <th>VIF</th>\n",
       "    </tr>\n",
       "  </thead>\n",
       "  <tbody>\n",
       "    <tr>\n",
       "      <th>3</th>\n",
       "      <td>CHAS</td>\n",
       "      <td>1.152952</td>\n",
       "    </tr>\n",
       "    <tr>\n",
       "      <th>0</th>\n",
       "      <td>CRIM</td>\n",
       "      <td>2.100373</td>\n",
       "    </tr>\n",
       "    <tr>\n",
       "      <th>1</th>\n",
       "      <td>ZN</td>\n",
       "      <td>2.844013</td>\n",
       "    </tr>\n",
       "    <tr>\n",
       "      <th>12</th>\n",
       "      <td>LSTAT</td>\n",
       "      <td>11.102025</td>\n",
       "    </tr>\n",
       "    <tr>\n",
       "      <th>2</th>\n",
       "      <td>INDUS</td>\n",
       "      <td>14.485758</td>\n",
       "    </tr>\n",
       "    <tr>\n",
       "      <th>7</th>\n",
       "      <td>DIS</td>\n",
       "      <td>14.699652</td>\n",
       "    </tr>\n",
       "    <tr>\n",
       "      <th>8</th>\n",
       "      <td>RAD</td>\n",
       "      <td>15.167725</td>\n",
       "    </tr>\n",
       "    <tr>\n",
       "      <th>11</th>\n",
       "      <td>B</td>\n",
       "      <td>20.104943</td>\n",
       "    </tr>\n",
       "    <tr>\n",
       "      <th>6</th>\n",
       "      <td>AGE</td>\n",
       "      <td>21.386850</td>\n",
       "    </tr>\n",
       "    <tr>\n",
       "      <th>9</th>\n",
       "      <td>TAX</td>\n",
       "      <td>61.227274</td>\n",
       "    </tr>\n",
       "    <tr>\n",
       "      <th>4</th>\n",
       "      <td>NOX</td>\n",
       "      <td>73.894947</td>\n",
       "    </tr>\n",
       "    <tr>\n",
       "      <th>5</th>\n",
       "      <td>RM</td>\n",
       "      <td>77.948283</td>\n",
       "    </tr>\n",
       "    <tr>\n",
       "      <th>10</th>\n",
       "      <td>PTRATIO</td>\n",
       "      <td>85.029547</td>\n",
       "    </tr>\n",
       "  </tbody>\n",
       "</table>\n",
       "</div>"
      ],
      "text/plain": [
       "    feature        VIF\n",
       "3      CHAS   1.152952\n",
       "0      CRIM   2.100373\n",
       "1        ZN   2.844013\n",
       "12    LSTAT  11.102025\n",
       "2     INDUS  14.485758\n",
       "7       DIS  14.699652\n",
       "8       RAD  15.167725\n",
       "11        B  20.104943\n",
       "6       AGE  21.386850\n",
       "9       TAX  61.227274\n",
       "4       NOX  73.894947\n",
       "5        RM  77.948283\n",
       "10  PTRATIO  85.029547"
      ]
     },
     "execution_count": 423,
     "metadata": {},
     "output_type": "execute_result"
    }
   ],
   "source": [
    "#Checking for multicollinearity\n",
    "from statsmodels.stats.outliers_influence import variance_inflation_factor\n",
    "feature_cols = ['CRIM', 'ZN', 'INDUS', 'CHAS', 'NOX', 'RM', 'AGE', 'DIS', 'RAD','TAX', 'PTRATIO', 'B', 'LSTAT']\n",
    "X = boston[feature_cols]\n",
    "vif_data = pd.DataFrame()\n",
    "vif_data[\"feature\"] = X.columns\n",
    "vif_data[\"VIF\"] = [variance_inflation_factor(X.values, i) for i in range(len(X.columns))]\n",
    "vif_data.sort_values(by='VIF')"
   ]
  },
  {
   "cell_type": "code",
   "execution_count": 394,
   "metadata": {},
   "outputs": [],
   "source": [
    "from sklearn.linear_model import LinearRegression\n",
    "from sklearn import metrics\n",
    "from sklearn.metrics import r2_score"
   ]
  },
  {
   "cell_type": "code",
   "execution_count": 404,
   "metadata": {},
   "outputs": [
    {
     "name": "stdout",
     "output_type": "stream",
     "text": [
      "36.45948838509015\n",
      "[-1.08011358e-01  4.64204584e-02  2.05586264e-02  2.68673382e+00\n",
      " -1.77666112e+01  3.80986521e+00  6.92224640e-04 -1.47556685e+00\n",
      "  3.06049479e-01 -1.23345939e-02 -9.52747232e-01  9.31168327e-03\n",
      " -5.24758378e-01]\n",
      "R-sqruare score:  0.7406426641094095\n",
      "Adj R-square:  0.733789726372463\n",
      "RMSE:  4.679191295697281\n"
     ]
    },
    {
     "data": {
      "text/plain": [
       "[('CRIM', -0.10801135783679423),\n",
       " ('ZN', 0.04642045836688117),\n",
       " ('INDUS', 0.020558626367069507),\n",
       " ('CHAS', 2.6867338193449415),\n",
       " ('NOX', -17.766611228299926),\n",
       " ('RM', 3.809865206809223),\n",
       " ('AGE', 0.0006922246403368467),\n",
       " ('DIS', -1.4755668456002524),\n",
       " ('RAD', 0.30604947898516904),\n",
       " ('TAX', -0.012334593916573685),\n",
       " ('PTRATIO', -0.9527472317072904),\n",
       " ('B', 0.009311683273793581),\n",
       " ('LSTAT', -0.5247583778554906)]"
      ]
     },
     "execution_count": 404,
     "metadata": {},
     "output_type": "execute_result"
    },
    {
     "data": {
      "image/png": "[encoded data removed]",
      "text/plain": [
       "<Figure size 2340x180 with 13 Axes>"
      ]
     },
     "metadata": {
      "needs_background": "light"
     },
     "output_type": "display_data"
    }
   ],
   "source": [
    "#Model 0 - Test model with all variables\n",
    "feature_cols = ['CRIM', 'ZN', 'INDUS', 'CHAS', 'NOX', 'RM', 'AGE', 'DIS', 'RAD','TAX', 'PTRATIO', 'B', 'LSTAT']\n",
    "k=len(feature_cols)\n",
    "n=len(boston.MEDV)\n",
    "sns.pairplot(boston, x_vars=feature_cols, y_vars='MEDV', kind='reg')\n",
    "\n",
    "# Create X and y.\n",
    "X = boston[feature_cols]\n",
    "y = boston.MEDV\n",
    "\n",
    "# Instantiate and fit.\n",
    "linreg = LinearRegression()\n",
    "linreg.fit(X, y)\n",
    "y_pred = linreg.predict(X)\n",
    "\n",
    "# Print the coefficients.\n",
    "print(linreg.intercept_)\n",
    "print(linreg.coef_)\n",
    "print(\"R-sqruare score: \",linreg.score(X,y))\n",
    "print(\"Adj R-square: \",1-(1-linreg.score(X,y))*(n-1)/(n-k-1)) #1-(1-linreg.score(X,y))*(n-1)/(n-k-1)\n",
    "print(\"RMSE: \",np.sqrt(metrics.mean_squared_error(y, y_pred)))\n",
    "list(zip(feature_cols, linreg.coef_))"
   ]
  },
  {
   "cell_type": "code",
   "execution_count": 437,
   "metadata": {},
   "outputs": [
    {
     "name": "stdout",
     "output_type": "stream",
     "text": [
      "21.971515920103947\n",
      "[ 6.17293    -0.33983831  0.11988441]\n",
      "R-sqruare score:  0.26287181893210076\n",
      "Adj R-square:  0.2584666704396631\n",
      "RMSE:  7.888474749655582\n"
     ]
    },
    {
     "data": {
      "text/plain": [
       "[('CHAS', 6.1729300036890855),\n",
       " ('CRIM', -0.339838310936571),\n",
       " ('ZN', 0.11988440832609024)]"
      ]
     },
     "execution_count": 437,
     "metadata": {},
     "output_type": "execute_result"
    },
    {
     "data": {
      "image/png": "[encoded data removed]",
      "text/plain": [
       "<Figure size 540x180 with 3 Axes>"
      ]
     },
     "metadata": {
      "needs_background": "light"
     },
     "output_type": "display_data"
    }
   ],
   "source": [
    "#Model 1 - starting with 3 features with lowest VIF score\n",
    "feature_cols = ['CHAS','CRIM','ZN']\n",
    "sns.pairplot(boston, x_vars=feature_cols, y_vars='MEDV', kind='reg')\n",
    "k=len(feature_cols)\n",
    "n=len(boston.MEDV)\n",
    "\n",
    "# Create X and y.\n",
    "X = boston[feature_cols]\n",
    "y = boston.MEDV\n",
    "\n",
    "# Instantiate and fit.\n",
    "linreg = LinearRegression()\n",
    "linreg.fit(X, y)\n",
    "y_pred = linreg.predict(X)\n",
    "\n",
    "# Print the coefficients.\n",
    "print(linreg.intercept_)\n",
    "print(linreg.coef_)\n",
    "print(\"R-sqruare score: \",linreg.score(X,y))\n",
    "print(\"Adj R-square: \",1-(1-linreg.score(X,y))*(n-1)/(n-k-1))\n",
    "print(\"RMSE: \",np.sqrt(metrics.mean_squared_error(y, y_pred)))\n",
    "list(zip(feature_cols, linreg.coef_))"
   ]
  },
  {
   "cell_type": "code",
   "execution_count": 438,
   "metadata": {},
   "outputs": [
    {
     "name": "stdout",
     "output_type": "stream",
     "text": [
      "33.397193828836215\n",
      "[ 5.15740436 -0.05580566 -0.84280146  0.02484402 -0.05726685]\n",
      "R-sqruare score:  0.5713197273660999\n",
      "Adj R-square:  0.567032924639761\n",
      "RMSE:  6.015729244959242\n"
     ]
    },
    {
     "data": {
      "text/plain": [
       "[('CHAS', 5.157404362803318),\n",
       " ('CRIM', -0.055805655106058005),\n",
       " ('LSTAT', -0.8428014573265612),\n",
       " ('ZN', 0.02484402320790642),\n",
       " ('INDUS', -0.057266848635565366)]"
      ]
     },
     "execution_count": 438,
     "metadata": {},
     "output_type": "execute_result"
    },
    {
     "data": {
      "image/png": "[encoded data removed]",
      "text/plain": [
       "<Figure size 900x180 with 5 Axes>"
      ]
     },
     "metadata": {
      "needs_background": "light"
     },
     "output_type": "display_data"
    }
   ],
   "source": [
    "#Model 2 - addition of INDUS and LSTAT \n",
    "feature_cols = ['CHAS','CRIM','LSTAT','ZN','INDUS']\n",
    "sns.pairplot(boston, x_vars=feature_cols, y_vars='MEDV', kind='reg')\n",
    "k=len(feature_cols)\n",
    "n=len(boston.MEDV)\n",
    "\n",
    "# Create X and y.\n",
    "X = boston[feature_cols]\n",
    "y = boston.MEDV\n",
    "\n",
    "# Instantiate and fit.\n",
    "linreg = LinearRegression()\n",
    "linreg.fit(X, y)\n",
    "y_pred = linreg.predict(X)\n",
    "\n",
    "# Print the coefficients.\n",
    "print(linreg.intercept_)\n",
    "print(linreg.coef_)\n",
    "print(\"R-sqruare score: \",linreg.score(X,y))\n",
    "print(\"Adj R-square: \",1-(1-linreg.score(X,y))*(n-1)/(n-k-1))\n",
    "print(\"RMSE: \",np.sqrt(metrics.mean_squared_error(y, y_pred)))\n",
    "list(zip(feature_cols, linreg.coef_))"
   ]
  },
  {
   "cell_type": "code",
   "execution_count": 432,
   "metadata": {},
   "outputs": [
    {
     "name": "stdout",
     "output_type": "stream",
     "text": [
      "42.61107686719552\n",
      "[ 4.21040378 -0.10844908 -0.85471316  0.09036019 -0.29635089 -1.81534377]\n",
      "R-sqruare score:  0.6349498739283546\n",
      "Adj R-square:  0.630560493654948\n",
      "RMSE:  5.551339443568605\n"
     ]
    },
    {
     "data": {
      "text/plain": [
       "[('CHAS', 4.210403780956657),\n",
       " ('CRIM', -0.10844908425654934),\n",
       " ('LSTAT', -0.8547131551694487),\n",
       " ('ZN', 0.09036018693537809),\n",
       " ('INDUS', -0.2963508932406897),\n",
       " ('DIS', -1.8153437656603615)]"
      ]
     },
     "execution_count": 432,
     "metadata": {},
     "output_type": "execute_result"
    },
    {
     "data": {
      "image/png": "[encoded data removed]",
      "text/plain": [
       "<Figure size 1080x180 with 6 Axes>"
      ]
     },
     "metadata": {
      "needs_background": "light"
     },
     "output_type": "display_data"
    }
   ],
   "source": [
    "#Model 3 - addition of ZN\n",
    "feature_cols = ['CHAS','CRIM','LSTAT','ZN','INDUS','DIS']\n",
    "sns.pairplot(boston, x_vars=feature_cols, y_vars='MEDV', kind='reg')\n",
    "k=len(feature_cols)\n",
    "n=len(boston.MEDV)\n",
    "\n",
    "# Create X and y.\n",
    "X = boston[feature_cols]\n",
    "y = boston.MEDV\n",
    "\n",
    "# Instantiate and fit.\n",
    "linreg = LinearRegression()\n",
    "linreg.fit(X, y)\n",
    "y_pred = linreg.predict(X)\n",
    "\n",
    "# Print the coefficients.\n",
    "print(linreg.intercept_)\n",
    "print(linreg.coef_)\n",
    "print(\"R-sqruare score: \",linreg.score(X,y))\n",
    "print(\"Adj R-square: \",1-(1-linreg.score(X,y))*(n-1)/(n-k-1))\n",
    "print(\"RMSE: \",np.sqrt(metrics.mean_squared_error(y, y_pred)))\n",
    "list(zip(feature_cols, linreg.coef_))"
   ]
  },
  {
   "cell_type": "code",
   "execution_count": 433,
   "metadata": {},
   "outputs": [
    {
     "name": "stdout",
     "output_type": "stream",
     "text": [
      "39.864658080827105\n",
      "[ 4.12509006 -0.1038792  -0.84365165  0.09134858 -0.29404931 -1.81964098\n",
      "  0.02693972  0.00649902]\n",
      "R-sqruare score:  0.6381478768349806\n",
      "Adj R-square:  0.632323295375584\n",
      "RMSE:  5.526969841762942\n"
     ]
    },
    {
     "data": {
      "text/plain": [
       "[('CHAS', 4.125090057637397),\n",
       " ('CRIM', -0.10387920086002826),\n",
       " ('LSTAT', -0.8436516513936043),\n",
       " ('ZN', 0.09134857770467561),\n",
       " ('INDUS', -0.29404931192847567),\n",
       " ('DIS', -1.8196409804397988),\n",
       " ('RAD', 0.026939724425095138),\n",
       " ('B', 0.006499016586926717)]"
      ]
     },
     "execution_count": 433,
     "metadata": {},
     "output_type": "execute_result"
    },
    {
     "data": {
      "image/png": "[encoded data removed]",
      "text/plain": [
       "<Figure size 1440x180 with 8 Axes>"
      ]
     },
     "metadata": {
      "needs_background": "light"
     },
     "output_type": "display_data"
    }
   ],
   "source": [
    "#Model 4 \n",
    "feature_cols = ['CHAS','CRIM','LSTAT','ZN','INDUS','DIS','RAD',\"B\"]\n",
    "sns.pairplot(boston, x_vars=feature_cols, y_vars='MEDV', kind='reg')\n",
    "k=len(feature_cols)\n",
    "n=len(boston.MEDV)\n",
    "\n",
    "# Create X and y.\n",
    "X = boston[feature_cols]\n",
    "y = boston.MEDV\n",
    "\n",
    "# Instantiate and fit.\n",
    "linreg = LinearRegression()\n",
    "linreg.fit(X, y)\n",
    "y_pred = linreg.predict(X)\n",
    "\n",
    "# Print the coefficients.\n",
    "print(linreg.intercept_)\n",
    "print(linreg.coef_)\n",
    "print(\"R-sqruare score: \",linreg.score(X,y))\n",
    "print(\"Adj R-square: \",1-(1-linreg.score(X,y))*(n-1)/(n-k-1))\n",
    "print(\"RMSE: \",np.sqrt(metrics.mean_squared_error(y, y_pred)))\n",
    "list(zip(feature_cols, linreg.coef_))"
   ]
  },
  {
   "cell_type": "code",
   "execution_count": 410,
   "metadata": {},
   "outputs": [
    {
     "name": "stdout",
     "output_type": "stream",
     "text": [
      "18.84816133597132\n",
      "[-0.07161396  0.04283854 -0.14220044  2.9025227   4.10838272 -1.1409513\n",
      " -0.70190871  0.00950116 -0.55993819]\n",
      "R-sqruare score:  0.7195370612860572\n",
      "Adj R-square:  0.7144480160271349\n",
      "RMSE:  4.865856225217192\n"
     ]
    },
    {
     "data": {
      "text/plain": [
       "[('CRIM', -0.07161396449767071),\n",
       " ('ZN', 0.042838537152622654),\n",
       " ('INDUS', -0.14220043901688795),\n",
       " ('CHAS', 2.902522703619903),\n",
       " ('RM', 4.108382720872508),\n",
       " ('DIS', -1.140951302035731),\n",
       " ('PTRATIO', -0.7019087146594587),\n",
       " ('B', 0.009501163693713932),\n",
       " ('LSTAT', -0.559938188623371)]"
      ]
     },
     "execution_count": 410,
     "metadata": {},
     "output_type": "execute_result"
    },
    {
     "data": {
      "image/png": "[encoded data removed]",
      "text/plain": [
       "<Figure size 1620x180 with 9 Axes>"
      ]
     },
     "metadata": {
      "needs_background": "light"
     },
     "output_type": "display_data"
    }
   ],
   "source": [
    "#Model 5 - model based on FWD SELECTION (See Feature Selection code below for the choice of features)\n",
    "#TO REMOVE 'AGE', 'RAD','TAX','NOX' >> REMOVING VARIABLES THAT CONTRIBUTE LEAST TO MODEL'S Adjusted R2\n",
    "#selected features that contributed the most to adj r2\n",
    "feature_cols = ['CRIM', 'ZN', 'INDUS', 'CHAS', 'RM', 'DIS', 'PTRATIO', 'B', 'LSTAT']\n",
    "sns.pairplot(boston, x_vars=feature_cols, y_vars='MEDV', kind='reg')\n",
    "k=len(feature_cols)\n",
    "n=len(boston.MEDV)\n",
    "\n",
    "# Create X and y.\n",
    "X = boston[feature_cols]\n",
    "y = boston.MEDV\n",
    "\n",
    "# Instantiate and fit.\n",
    "linreg = LinearRegression()\n",
    "linreg.fit(X, y)\n",
    "y_pred = linreg.predict(X)\n",
    "\n",
    "# Print the coefficients.\n",
    "print(linreg.intercept_)\n",
    "print(linreg.coef_)\n",
    "print(\"R-sqruare score: \",linreg.score(X,y))\n",
    "print(\"Adj R-square: \",1-(1-linreg.score(X,y))*(n-1)/(n-k-1))\n",
    "print(\"RMSE: \",np.sqrt(metrics.mean_squared_error(y, y_pred)))\n",
    "list(zip(feature_cols, linreg.coef_))"
   ]
  },
  {
   "cell_type": "code",
   "execution_count": 435,
   "metadata": {},
   "outputs": [
    {
     "name": "stdout",
     "output_type": "stream",
     "text": [
      "40.61722261716423\n",
      "[-20.16431316   4.04507486  -1.1958039    0.05398503  -1.12748329\n",
      "  -0.59197368]\n",
      "R-sqruare score:  0.7093412846769827\n",
      "Adj R-square:  0.7058463903043612\n",
      "RMSE:  4.953511859326714\n"
     ]
    },
    {
     "data": {
      "text/plain": [
       "[('NOX', -20.164313156481295),\n",
       " ('RM', 4.045074855346241),\n",
       " ('DIS', -1.1958038990153836),\n",
       " ('RAD', 0.053985029504793065),\n",
       " ('PTRATIO', -1.1274832903713992),\n",
       " ('LSTAT', -0.5919736778655498)]"
      ]
     },
     "execution_count": 435,
     "metadata": {},
     "output_type": "execute_result"
    },
    {
     "data": {
      "image/png": "[encoded data removed]",
      "text/plain": [
       "<Figure size 1080x180 with 6 Axes>"
      ]
     },
     "metadata": {
      "needs_background": "light"
     },
     "output_type": "display_data"
    }
   ],
   "source": [
    "#Model 7 - model based on BACKWARD SELECTION v2 model \n",
    "#selected features that contributed the most to adj r2\n",
    "feature_cols = ['NOX', 'RM', 'DIS', 'RAD', 'PTRATIO', 'LSTAT']\n",
    "sns.pairplot(boston, x_vars=feature_cols, y_vars='MEDV', kind='reg')\n",
    "k=len(feature_cols)\n",
    "n=len(boston.MEDV)\n",
    "\n",
    "# Create X and y.\n",
    "X = boston[feature_cols]\n",
    "y = boston.MEDV\n",
    "\n",
    "# Instantiate and fit.\n",
    "linreg = LinearRegression()\n",
    "linreg.fit(X, y)\n",
    "y_pred = linreg.predict(X)\n",
    "\n",
    "# Print the coefficients.\n",
    "print(linreg.intercept_)\n",
    "print(linreg.coef_)\n",
    "print(\"R-sqruare score: \",linreg.score(X,y))\n",
    "print(\"Adj R-square: \",1-(1-linreg.score(X,y))*(n-1)/(n-k-1))\n",
    "print(\"RMSE: \",np.sqrt(metrics.mean_squared_error(y, y_pred)))\n",
    "list(zip(feature_cols, linreg.coef_))"
   ]
  },
  {
   "cell_type": "code",
   "execution_count": 436,
   "metadata": {},
   "outputs": [
    {
     "name": "stdout",
     "output_type": "stream",
     "text": [
      "40.46321148911388\n",
      "[ -0.56186293   3.90921639  -1.04430962  -1.48532415 -20.63868747\n",
      "   0.03563547  -0.12558119   0.1066104 ]\n",
      "R-sqruare score:  0.7200878897693256\n",
      "Adj R-square:  0.7155822622404615\n",
      "RMSE:  4.861075612290887\n"
     ]
    },
    {
     "data": {
      "text/plain": [
       "[('LSTAT', -0.5618629297893343),\n",
       " ('RM', 3.9092163937372373),\n",
       " ('PTRATIO', -1.0443096175653226),\n",
       " ('DIS', -1.485324147270999),\n",
       " ('NOX', -20.638687466136425),\n",
       " ('ZN', 0.03563546560898614),\n",
       " ('CRIM', -0.12558118799477125),\n",
       " ('RAD', 0.10661039822452331)]"
      ]
     },
     "execution_count": 436,
     "metadata": {},
     "output_type": "execute_result"
    },
    {
     "data": {
      "image/png": "[encoded data removed]",
      "text/plain": [
       "<Figure size 1440x180 with 8 Axes>"
      ]
     },
     "metadata": {
      "needs_background": "light"
     },
     "output_type": "display_data"
    }
   ],
   "source": [
    "#Model 8 - model based on Stepwise regression\n",
    "feature_cols = ['LSTAT', 'RM', 'PTRATIO', 'DIS', 'NOX', 'ZN', 'CRIM', 'RAD']\n",
    "sns.pairplot(boston, x_vars=feature_cols, y_vars='MEDV', kind='reg')\n",
    "k=len(feature_cols)\n",
    "n=len(boston.MEDV)\n",
    "\n",
    "# Create X and y.\n",
    "X = boston[feature_cols]\n",
    "y = boston.MEDV\n",
    "\n",
    "# Instantiate and fit.\n",
    "linreg = LinearRegression()\n",
    "linreg.fit(X, y)\n",
    "y_pred = linreg.predict(X)\n",
    "\n",
    "# Print the coefficients.\n",
    "print(linreg.intercept_)\n",
    "print(linreg.coef_)\n",
    "print(\"R-sqruare score: \",linreg.score(X,y))\n",
    "print(\"Adj R-square: \",1 - ((1-linreg.score(X,y))*(n-1))/(n-k-1))\n",
    "print(\"RMSE: \",np.sqrt(metrics.mean_squared_error(y, y_pred)))\n",
    "list(zip(feature_cols, linreg.coef_))"
   ]
  },
  {
   "cell_type": "markdown",
   "metadata": {},
   "source": [
    "## Exploration using Feature Selection Models"
   ]
  },
  {
   "cell_type": "code",
   "execution_count": 412,
   "metadata": {},
   "outputs": [
    {
     "name": "stdout",
     "output_type": "stream",
     "text": [
      "22.485628113468223\n",
      "[-0.35207832  0.11610909]\n",
      "R-sqruare score:  0.23398843834155303\n",
      "Adj R-square:  0.23094266672462083\n",
      "RMSE:  8.041539407706544\n"
     ]
    },
    {
     "data": {
      "text/plain": [
       "[('CRIM', -0.3520783156402675), ('ZN', 0.1161090918440094)]"
      ]
     },
     "execution_count": 412,
     "metadata": {},
     "output_type": "execute_result"
    },
    {
     "data": {
      "image/png": "[encoded data removed]",
      "text/plain": [
       "<Figure size 360x180 with 2 Axes>"
      ]
     },
     "metadata": {
      "needs_background": "light"
     },
     "output_type": "display_data"
    }
   ],
   "source": [
    "#SAMPLE TEST CODE \n",
    "#from model Adj R-square:  0.676517568739516:\n",
    "#feature_cols = ['CRIM','ZN','INDUS','CHAS','NOX','RM','AGE','DIS','RAD','TAX','PTRATIO','B']\n",
    "#from TEST Adj R-square:  0.7222071804094558:\n",
    "#feature_cols = ['LSTAT', 'RM', 'PTRATIO', 'DIS', 'NOX', 'CHAS', 'B', 'ZN']\n",
    "#ALL Adj R-square:  0.733789726372463\n",
    "#feature_cols = ['CRIM', 'ZN', 'INDUS', 'CHAS', 'NOX', 'RM', 'AGE', 'DIS', 'RAD','TAX', 'PTRATIO', 'B', 'LSTAT']\n",
    "#reordered: \n",
    "feature_cols = ['CRIM','ZN']\n",
    "\n",
    "sns.pairplot(boston, x_vars=feature_cols, y_vars='MEDV', kind='reg')\n",
    "k=len(feature_cols)\n",
    "n=len(boston.MEDV)\n",
    "\n",
    "# Create X and y.\n",
    "X = boston[feature_cols]\n",
    "y = boston.MEDV\n",
    "\n",
    "# Instantiate and fit.\n",
    "linreg = LinearRegression()\n",
    "linreg.fit(X, y)\n",
    "y_pred = linreg.predict(X)\n",
    "\n",
    "# Print the coefficients.\n",
    "print(linreg.intercept_)\n",
    "print(linreg.coef_)\n",
    "print(\"R-sqruare score: \",linreg.score(X,y))\n",
    "print(\"Adj R-square: \",1-(1-linreg.score(X,y))*(n-1)/(n-k-1))\n",
    "print(\"RMSE: \",np.sqrt(metrics.mean_squared_error(y, y_pred)))\n",
    "list(zip(feature_cols, linreg.coef_))"
   ]
  },
  {
   "cell_type": "code",
   "execution_count": 353,
   "metadata": {},
   "outputs": [],
   "source": [
    "#created this function, as the the models used can vary depending on which is the starting feature we are testing\n",
    "def beststartfeature(data,X,y): #X is boston[feature_cols] e.g. list(X.columns) , y is array\n",
    "    columnslist=list(X.columns) #boston[feature_cols].columns\n",
    "    colscheck=[]\n",
    "    r2list=[]\n",
    "    linreg = LinearRegression()\n",
    "    for i in range(0,len(columnslist)-1): \n",
    "        cols=X.columns[i]\n",
    "        #cols.append(X.columns[i]) #cols=boston[feature_cols].columns[0]='CRIM' - CRIM into cols boston[[boston.columns[0]]]\n",
    "        colscheck.append(X.columns[i])\n",
    "        linreg.fit(X[[cols]],y)  \n",
    "        y_pred = linreg.predict(X[[cols]])         \n",
    "        r2=linreg.score(X[[cols]],y) \n",
    "        r2list.append(r2)\n",
    "        #if r2>=r2list:\n",
    "            #r2list=r2\n",
    "        #else:\n",
    "            #pass\n",
    "            #cols=data[[data.columns[i]]] #0 and new max value will be in list \n",
    "            #cols.reshape(-1, 1)\n",
    "            #else r2 will not be added to r2list, and current feature will be removed, returning empty cols list\n",
    "    #data,X,y = train_dataset.shape\n",
    "    #d2dataset = train_dataset.reshape((data,X*y))\n",
    "    #cols.reshape(1, -1)\n",
    "    sortedcols= sorted(list(zip(colscheck,r2list)),key=lambda t: t[1],reverse=True)\n",
    "    return sortedcols"
   ]
  },
  {
   "cell_type": "code",
   "execution_count": 354,
   "metadata": {},
   "outputs": [
    {
     "data": {
      "text/plain": [
       "[('RM', 0.48352545599133423),\n",
       " ('PTRATIO', 0.257847318009223),\n",
       " ('INDUS', 0.2339900304444752),\n",
       " ('TAX', 0.2195259210442193),\n",
       " ('NOX', 0.182603042501699),\n",
       " ('CRIM', 0.15078046904975717),\n",
       " ('RAD', 0.14563857991232532),\n",
       " ('AGE', 0.14209474407780442),\n",
       " ('ZN', 0.12992084489428946),\n",
       " ('B', 0.11119611824636277),\n",
       " ('DIS', 0.062464372121782574),\n",
       " ('CHAS', 0.03071612970877491)]"
      ]
     },
     "execution_count": 354,
     "metadata": {},
     "output_type": "execute_result"
    }
   ],
   "source": [
    "feature_cols = ['CRIM', 'ZN', 'INDUS', 'CHAS', 'NOX', 'RM', 'AGE', 'DIS', 'RAD','TAX', 'PTRATIO', 'B', 'LSTAT']\n",
    "X = boston[feature_cols]\n",
    "y = boston.MEDV\n",
    "beststartfeature(boston,boston[feature_cols],boston.MEDV) "
   ]
  },
  {
   "cell_type": "code",
   "execution_count": 373,
   "metadata": {},
   "outputs": [],
   "source": [
    "#backward regression \n",
    "def featureselectbackv1(data,X,y):\n",
    "    columnslist=list(X.columns) #boston[feature_cols].columns\n",
    "    cols=[]\n",
    "    adjr2list=[]\n",
    "    adjr2diff=[]\n",
    "    k=len(cols)\n",
    "    n=len(y)\n",
    "    linreg = LinearRegression()\n",
    "    for i in range(len(columnslist)-1,-1,-1):\n",
    "        #columnslist.remove(X.columns[i]) #remove 'LSTAT' \n",
    "        #cols.append(X.columns[i])\n",
    "        linreg.fit(X[columnslist], y) \n",
    "        y_pred = linreg.predict(X[columnslist])\n",
    "        adjr2= 1 - ((1-linreg.score(X[columnslist],y))*(n-1))/(n-k-1)\n",
    "        adjr2list.append(adjr2)\n",
    "        adjr2d=abs(adjr2-max(adjr2list))\n",
    "        cols.append(X.columns[i])\n",
    "        #if adjr2>=max(adjr2list): #if adjr2 increases, keep feature, add feature to cols, if not -> remove \n",
    "            #cols.append(X.columns[i])\n",
    "            #adjr2d=adjr2-max(adjr2list)\n",
    "            #adjr2diff.append(adjr2d)    \n",
    "        columnslist.remove(X.columns[i])\n",
    "        #cols.reshape(1, -1)\n",
    "    return adjr2list,adjr2diff,cols"
   ]
  },
  {
   "cell_type": "code",
   "execution_count": 370,
   "metadata": {},
   "outputs": [],
   "source": [
    "#backward loop \n",
    "def featureselectbackv2(data,X,y):\n",
    "    columnslist=list(X.columns) #boston[feature_cols].columns\n",
    "    cols=[]\n",
    "    adjr2list=[0]\n",
    "    adjr2diff=[]\n",
    "    k=len(cols)\n",
    "    n=len(y)\n",
    "    linreg = LinearRegression()\n",
    "    for i in range(len(columnslist)-1,-1,-1):\n",
    "        cols.append(X.columns[i]) #cols=boston[feature_cols].columns[0]='CRIM'\n",
    "        linreg.fit(X[cols], y) #X[[cols]] = X[['CRIM']] cols=['CRIM']\n",
    "        y_pred = linreg.predict(X[cols])\n",
    "        adjr2= 1 - ((1-linreg.score(X[cols],y))*(n-1))/(n-k-1)\n",
    "        if adjr2>=max(adjr2list):\n",
    "            adjr2d=adjr2-max(adjr2list)\n",
    "            adjr2list.append(adjr2)\n",
    "            adjr2diff.append(adjr2d)\n",
    "        else:\n",
    "            cols.remove(X.columns[i])\n",
    "            adjr2list.remove(adjr2)\n",
    "    test= sorted(list(zip(cols,adjr2diff)),key=lambda t: t[1])\n",
    "    return adjr2list,test"
   ]
  },
  {
   "cell_type": "code",
   "execution_count": 371,
   "metadata": {},
   "outputs": [],
   "source": [
    "#forward loop\n",
    "def featureselectfwd(data,X,y):\n",
    "    columnslist=list(X.columns) #boston[feature_cols].columns\n",
    "    cols=[]\n",
    "    adjr2list=[0]\n",
    "    adjr2diff=[]\n",
    "    k=len(cols)\n",
    "    n=len(y)\n",
    "    linreg = LinearRegression()\n",
    "    for i in range(0,len(columnslist)-1):\n",
    "        cols.append(X.columns[i]) #cols=boston[feature_cols].columns[0]='CRIM'\n",
    "        linreg.fit(X[cols], y) #X[[cols]] = X[['CRIM']] cols=['CRIM']\n",
    "        y_pred = linreg.predict(X[cols])\n",
    "        adjr2= 1 - ((1-linreg.score(X[cols],y))*(n-1))/(n-k-1)\n",
    "        if adjr2>=max(adjr2list):\n",
    "            adjr2d=adjr2-max(adjr2list)\n",
    "            adjr2list.append(adjr2)\n",
    "            adjr2diff.append(adjr2d)\n",
    "        else:\n",
    "            cols.remove(X.columns[i])\n",
    "            adjr2list.remove(adjr2)\n",
    "        #cols.reshape(1, -1)\n",
    "    test= sorted(list(zip(cols,adjr2diff)),key=lambda t: t[1])\n",
    "    return adjr2list, test"
   ]
  },
  {
   "cell_type": "code",
   "execution_count": 374,
   "metadata": {},
   "outputs": [
    {
     "data": {
      "text/plain": [
       "([0.7406426641094095,\n",
       "  0.6842042799773889,\n",
       "  0.6703140875272768,\n",
       "  0.6396628026756686,\n",
       "  0.6319478530107927,\n",
       "  0.6311487593039973,\n",
       "  0.5894901581984897,\n",
       "  0.5873769620476353,\n",
       "  0.3313127012223386,\n",
       "  0.329527723214487,\n",
       "  0.29371357158118694,\n",
       "  0.23398843834155303,\n",
       "  0.15078046904975717],\n",
       " [],\n",
       " ['LSTAT',\n",
       "  'B',\n",
       "  'PTRATIO',\n",
       "  'TAX',\n",
       "  'RAD',\n",
       "  'DIS',\n",
       "  'AGE',\n",
       "  'RM',\n",
       "  'NOX',\n",
       "  'CHAS',\n",
       "  'INDUS',\n",
       "  'ZN',\n",
       "  'CRIM'])"
      ]
     },
     "execution_count": 374,
     "metadata": {},
     "output_type": "execute_result"
    }
   ],
   "source": [
    "feature_cols = ['CRIM', 'ZN', 'INDUS', 'CHAS', 'NOX', 'RM', 'AGE', 'DIS', 'RAD','TAX', 'PTRATIO', 'B', 'LSTAT']\n",
    "X = boston[feature_cols]\n",
    "y = boston.MEDV\n",
    "#columnslist=list(X.columns)\n",
    "#X.columns[len(columnslist)-1]\n",
    "#columnslist.remove(X.columns[len(columnslist)-1])\n",
    "#columnslist\n",
    "featureselectbackv1(boston,boston[feature_cols],boston.MEDV) \n",
    "#TO REMOVE: B, TAX, AGE, CHAS, INDUS"
   ]
  },
  {
   "cell_type": "code",
   "execution_count": 365,
   "metadata": {},
   "outputs": [
    {
     "data": {
      "text/plain": [
       "([0,\n",
       "  0.5441462975864799,\n",
       "  0.5487897073449869,\n",
       "  0.6098453143448523,\n",
       "  0.6103060811596952,\n",
       "  0.6293001962948066,\n",
       "  0.6534866004633334,\n",
       "  0.653502530328673,\n",
       "  0.7131304340054101,\n",
       "  0.7239371664203452,\n",
       "  0.7298531546756315,\n",
       "  0.729860161558433,\n",
       "  0.7349488253339126,\n",
       "  0.7406426641094094],\n",
       " [('INDUS', 7.006882801530168e-06),\n",
       "  ('AGE', 1.592986533960339e-05),\n",
       "  ('TAX', 0.0004607668148428612),\n",
       "  ('B', 0.004643409758506967),\n",
       "  ('ZN', 0.005088663775479563),\n",
       "  ('CRIM', 0.0056938387754967845),\n",
       "  ('CHAS', 0.005915988255286275),\n",
       "  ('NOX', 0.010806732414935127),\n",
       "  ('RAD', 0.0189941151351114),\n",
       "  ('DIS', 0.0241864041685268),\n",
       "  ('RM', 0.05962790367673709),\n",
       "  ('PTRATIO', 0.06105560699986545),\n",
       "  ('LSTAT', 0.5441462975864799)])"
      ]
     },
     "execution_count": 365,
     "metadata": {},
     "output_type": "execute_result"
    }
   ],
   "source": [
    "featureselectbackv2(boston,boston[feature_cols],boston.MEDV) "
   ]
  },
  {
   "cell_type": "code",
   "execution_count": 366,
   "metadata": {
    "scrolled": false
   },
   "outputs": [
    {
     "data": {
      "text/plain": [
       "([0,\n",
       "  0.15078046904975717,\n",
       "  0.23398843834155303,\n",
       "  0.29371357158118694,\n",
       "  0.329527723214487,\n",
       "  0.3313127012223387,\n",
       "  0.5873769620476353,\n",
       "  0.5894901581984897,\n",
       "  0.6311487593039973,\n",
       "  0.6319478530107927,\n",
       "  0.6396628026756686,\n",
       "  0.6703140875272768,\n",
       "  0.6842042799773889],\n",
       " [('RAD', 0.0007990937067954285),\n",
       "  ('NOX', 0.001784978007851712),\n",
       "  ('AGE', 0.0021131961508543684),\n",
       "  ('TAX', 0.0077149496648758475),\n",
       "  ('B', 0.013890192450112027),\n",
       "  ('PTRATIO', 0.030651284851608285),\n",
       "  ('CHAS', 0.03581415163330004),\n",
       "  ('DIS', 0.041658601105507564),\n",
       "  ('INDUS', 0.05972513323963391),\n",
       "  ('ZN', 0.08320796929179586),\n",
       "  ('CRIM', 0.15078046904975717),\n",
       "  ('RM', 0.25606426082529665)])"
      ]
     },
     "execution_count": 366,
     "metadata": {},
     "output_type": "execute_result"
    }
   ],
   "source": [
    "featureselectfwd(boston,boston[feature_cols],boston.MEDV) "
   ]
  },
  {
   "cell_type": "code",
   "execution_count": 224,
   "metadata": {},
   "outputs": [],
   "source": [
    "#STEPWISE REGRESSION\n",
    "#DISCLAIMER: TOOK THIS CODE ONLINE WHICH DESCRIBED STEPWISE REGRESSION VIA STATSMODEL \n",
    "import statsmodels.api as sm\n",
    "def stepwise_selection(data,X,y,SL_in=0.05,SL_out = 0.05):\n",
    "    initial_features = list(X.columns)\n",
    "    best_features = []\n",
    "    while (len(initial_features)>0):\n",
    "        remaining_features = list(set(initial_features)-set(best_features))\n",
    "        new_pval = pd.Series(index=remaining_features)\n",
    "        for new_column in remaining_features:\n",
    "            model = sm.OLS(y, sm.add_constant(data[best_features+[new_column]])).fit()\n",
    "            new_pval[new_column] = model.pvalues[new_column]\n",
    "        min_p_value = new_pval.min()\n",
    "        if(min_p_value<SL_in):\n",
    "            best_features.append(new_pval.idxmin())\n",
    "            while(len(best_features)>0):\n",
    "                best_features_with_constant = sm.add_constant(data[best_features])\n",
    "                p_values = sm.OLS(y, best_features_with_constant).fit().pvalues[1:]\n",
    "                max_p_value = p_values.max()\n",
    "                if(max_p_value >= SL_out):\n",
    "                    excluded_feature = p_values.idxmax()\n",
    "                    best_features.remove(excluded_feature)\n",
    "                else:\n",
    "                    break \n",
    "        else:\n",
    "            break\n",
    "    return best_features"
   ]
  },
  {
   "cell_type": "code",
   "execution_count": 225,
   "metadata": {},
   "outputs": [
    {
     "name": "stderr",
     "output_type": "stream",
     "text": [
      "/var/folders/v0/6z8pjvr11kn3v9fr5dv27sv00000gp/T/ipykernel_48200/485274192.py:7: FutureWarning: The default dtype for empty Series will be 'object' instead of 'float64' in a future version. Specify a dtype explicitly to silence this warning.\n",
      "  new_pval = pd.Series(index=remaining_features)\n",
      "/var/folders/v0/6z8pjvr11kn3v9fr5dv27sv00000gp/T/ipykernel_48200/485274192.py:7: FutureWarning: The default dtype for empty Series will be 'object' instead of 'float64' in a future version. Specify a dtype explicitly to silence this warning.\n",
      "  new_pval = pd.Series(index=remaining_features)\n",
      "/var/folders/v0/6z8pjvr11kn3v9fr5dv27sv00000gp/T/ipykernel_48200/485274192.py:7: FutureWarning: The default dtype for empty Series will be 'object' instead of 'float64' in a future version. Specify a dtype explicitly to silence this warning.\n",
      "  new_pval = pd.Series(index=remaining_features)\n",
      "/var/folders/v0/6z8pjvr11kn3v9fr5dv27sv00000gp/T/ipykernel_48200/485274192.py:7: FutureWarning: The default dtype for empty Series will be 'object' instead of 'float64' in a future version. Specify a dtype explicitly to silence this warning.\n",
      "  new_pval = pd.Series(index=remaining_features)\n",
      "/var/folders/v0/6z8pjvr11kn3v9fr5dv27sv00000gp/T/ipykernel_48200/485274192.py:7: FutureWarning: The default dtype for empty Series will be 'object' instead of 'float64' in a future version. Specify a dtype explicitly to silence this warning.\n",
      "  new_pval = pd.Series(index=remaining_features)\n",
      "/var/folders/v0/6z8pjvr11kn3v9fr5dv27sv00000gp/T/ipykernel_48200/485274192.py:7: FutureWarning: The default dtype for empty Series will be 'object' instead of 'float64' in a future version. Specify a dtype explicitly to silence this warning.\n",
      "  new_pval = pd.Series(index=remaining_features)\n",
      "/var/folders/v0/6z8pjvr11kn3v9fr5dv27sv00000gp/T/ipykernel_48200/485274192.py:7: FutureWarning: The default dtype for empty Series will be 'object' instead of 'float64' in a future version. Specify a dtype explicitly to silence this warning.\n",
      "  new_pval = pd.Series(index=remaining_features)\n",
      "/var/folders/v0/6z8pjvr11kn3v9fr5dv27sv00000gp/T/ipykernel_48200/485274192.py:7: FutureWarning: The default dtype for empty Series will be 'object' instead of 'float64' in a future version. Specify a dtype explicitly to silence this warning.\n",
      "  new_pval = pd.Series(index=remaining_features)\n",
      "/var/folders/v0/6z8pjvr11kn3v9fr5dv27sv00000gp/T/ipykernel_48200/485274192.py:7: FutureWarning: The default dtype for empty Series will be 'object' instead of 'float64' in a future version. Specify a dtype explicitly to silence this warning.\n",
      "  new_pval = pd.Series(index=remaining_features)\n"
     ]
    },
    {
     "data": {
      "text/plain": [
       "['LSTAT', 'RM', 'PTRATIO', 'DIS', 'NOX', 'ZN', 'CRIM', 'RAD']"
      ]
     },
     "execution_count": 225,
     "metadata": {},
     "output_type": "execute_result"
    }
   ],
   "source": [
    "stepwise_selection(boston,boston[feature_cols],boston.MEDV,SL_in=0.05,SL_out = 0.05)"
   ]
  },
  {
   "cell_type": "markdown",
   "metadata": {},
   "source": [
    "**CONCLUSION**\n",
    "\n",
    "After comparing 5 iterations of regression, the better model to use for our model is Model 6. It has the highest adj r2 and lowest RMSE. Otherwise, the closest optimal model is the model above derived under Stepwise Regression model. "
   ]
  },
  {
   "cell_type": "markdown",
   "metadata": {},
   "source": [
    "### REQUIRED: Try 70/30 and 90/10 train/test splits: 70% of the data for training - 30% for testing, then 90% for training - 10% for testing.\n",
    "Score and plot both of these approaches. How do your metrics change? What does this tell us about the size of training/testing splits? Include a written response."
   ]
  },
  {
   "cell_type": "code",
   "execution_count": 197,
   "metadata": {},
   "outputs": [],
   "source": [
    "from sklearn.model_selection import train_test_split"
   ]
  },
  {
   "cell_type": "code",
   "execution_count": 212,
   "metadata": {},
   "outputs": [
    {
     "name": "stdout",
     "output_type": "stream",
     "text": [
      "Null RMSE:  8.890778702747843\n",
      "Null R-square score:  0.6834215770592026\n"
     ]
    }
   ],
   "source": [
    "#creating null RMSE to compare against\n",
    "feature_cols = ['CRIM','RM','LSTAT','PTRATIO','AGE']\n",
    "X = boston[feature_cols]\n",
    "y = boston.MEDV\n",
    "X_train, X_test, y_train, y_test = train_test_split(X, y, random_state=123)\n",
    "y_null = np.zeros_like(y_test, dtype=float)\n",
    "y_null.fill(y_train.mean())\n",
    "\n",
    "print('Null RMSE: ',np.sqrt(metrics.mean_squared_error(y_test, y_null)))\n",
    "print('Null R-square score: ',linreg.score(X,y))"
   ]
  },
  {
   "cell_type": "code",
   "execution_count": 199,
   "metadata": {},
   "outputs": [],
   "source": [
    "def train_test_rmse(df, feature_cols,n_test):\n",
    "    X = df[feature_cols]\n",
    "    y = df.MEDV\n",
    "    \n",
    "    X_train, X_test, y_train, y_test = train_test_split(X, y, random_state=1, test_size=n_test)\n",
    "    \n",
    "    linreg = LinearRegression()\n",
    "    linreg.fit(X_train, y_train)\n",
    "    \n",
    "    print(feature_cols)\n",
    "    print(linreg.coef_)\n",
    "    \n",
    "    y_pred = linreg.predict(X_test) \n",
    "    return np.sqrt(metrics.mean_squared_error(y_test, y_pred)), linreg.score(X,y)"
   ]
  },
  {
   "cell_type": "code",
   "execution_count": 203,
   "metadata": {},
   "outputs": [
    {
     "name": "stdout",
     "output_type": "stream",
     "text": [
      "['CRIM', 'RM', 'LSTAT', 'PTRATIO', 'AGE']\n",
      "[-0.04108162  3.47480333 -0.62254551 -0.92526236  0.01441039]\n"
     ]
    },
    {
     "data": {
      "text/plain": [
       "(4.960440797165829, 0.678877350742906)"
      ]
     },
     "execution_count": 203,
     "metadata": {},
     "output_type": "execute_result"
    }
   ],
   "source": [
    "#70-30 train/test split\n",
    "feature_cols = ['CRIM','RM','LSTAT','PTRATIO','AGE']\n",
    "train_test_rmse(boston,feature_cols,0.3)"
   ]
  },
  {
   "cell_type": "code",
   "execution_count": 204,
   "metadata": {},
   "outputs": [
    {
     "name": "stdout",
     "output_type": "stream",
     "text": [
      "['CRIM', 'RM', 'LSTAT', 'PTRATIO', 'AGE']\n",
      "[-0.05585218  4.24875986 -0.56171869 -0.83927762  0.00825627]\n"
     ]
    },
    {
     "data": {
      "text/plain": [
       "(5.502799809210119, 0.6817765157233178)"
      ]
     },
     "execution_count": 204,
     "metadata": {},
     "output_type": "execute_result"
    }
   ],
   "source": [
    "#60-40 train/test split\n",
    "feature_cols = ['CRIM','RM','LSTAT','PTRATIO','AGE']\n",
    "train_test_rmse(boston,feature_cols,0.4)"
   ]
  },
  {
   "cell_type": "code",
   "execution_count": 205,
   "metadata": {},
   "outputs": [
    {
     "name": "stdout",
     "output_type": "stream",
     "text": [
      "['CRIM', 'RM', 'LSTAT', 'PTRATIO', 'AGE']\n",
      "[-0.07457322  4.26577044 -0.5740122  -0.87281754  0.01419503]\n"
     ]
    },
    {
     "data": {
      "text/plain": [
       "(4.805241729858131, 0.682900766872482)"
      ]
     },
     "execution_count": 205,
     "metadata": {},
     "output_type": "execute_result"
    }
   ],
   "source": [
    "#90-10 train/test split\n",
    "feature_cols = ['CRIM','RM','LSTAT','PTRATIO','AGE']\n",
    "train_test_rmse(boston,feature_cols,0.1)"
   ]
  },
  {
   "cell_type": "markdown",
   "metadata": {},
   "source": [
    "**Answer**\n",
    "\n",
    "90/10 train-test split seems to have the optimal results from above, with the lowest RMSE scroe and highest r2 score, for the same dataset and features"
   ]
  },
  {
   "cell_type": "markdown",
   "metadata": {},
   "source": [
    "## BONUS: Try the k-fold cross-validation technique described above, varying the number of folds from 5 to 10\n",
    "What seems optimal? How do your scores change? What is the variance like? Try different folds to get a sense of how this impacts your score. What are the tradeoffs associated with choosing the number of folds? Include a written response."
   ]
  },
  {
   "cell_type": "code",
   "execution_count": 206,
   "metadata": {},
   "outputs": [],
   "source": [
    "from sklearn import model_selection\n",
    "from sklearn.model_selection import cross_val_score\n",
    "\n",
    "feature_cols = ['CRIM','RM','LSTAT','PTRATIO','AGE']\n",
    "X = boston[feature_cols]\n",
    "y = boston.MEDV"
   ]
  },
  {
   "cell_type": "code",
   "execution_count": 207,
   "metadata": {},
   "outputs": [
    {
     "name": "stdout",
     "output_type": "stream",
     "text": [
      "MSE:  35.38115861268092\n",
      "RMSE:  5.948206335752058\n",
      "R-square score:  0.4143908304381834\n"
     ]
    }
   ],
   "source": [
    "#number of folds=5\n",
    "kf = model_selection.KFold(n_splits=5, shuffle=False)\n",
    "print('MSE: ',np.mean(-cross_val_score(linreg, X, y, cv=kf, scoring='neg_mean_squared_error')))\n",
    "print('RMSE: ',np.sqrt(np.mean(-cross_val_score(linreg, X, y, cv=kf, scoring='neg_mean_squared_error'))))\n",
    "print('R-square score: ',np.mean(cross_val_score(linreg, X, y, cv=kf, scoring='r2')))"
   ]
  },
  {
   "cell_type": "code",
   "execution_count": 208,
   "metadata": {},
   "outputs": [
    {
     "name": "stdout",
     "output_type": "stream",
     "text": [
      "MSE:  43.995455335666385\n",
      "RMSE:  6.6329070049011225\n",
      "R-square score:  0.37738153860171386\n"
     ]
    }
   ],
   "source": [
    "#number of folds=6\n",
    "kf = model_selection.KFold(n_splits=6, shuffle=False)\n",
    "print('MSE: ',np.mean(-cross_val_score(linreg, X, y, cv=kf, scoring='neg_mean_squared_error')))\n",
    "print('RMSE: ',np.sqrt(np.mean(-cross_val_score(linreg, X, y, cv=kf, scoring='neg_mean_squared_error'))))\n",
    "print('R-square score: ',np.mean(cross_val_score(linreg, X, y, cv=kf)))"
   ]
  },
  {
   "cell_type": "code",
   "execution_count": 209,
   "metadata": {},
   "outputs": [
    {
     "name": "stdout",
     "output_type": "stream",
     "text": [
      "MSE:  44.70050299335322\n",
      "RMSE:  6.685843476581935\n",
      "R-square score:  0.35218105882855016\n"
     ]
    }
   ],
   "source": [
    "#number of folds=7\n",
    "kf = model_selection.KFold(n_splits=7, shuffle=False)\n",
    "print('MSE: ',np.mean(-cross_val_score(linreg, X, y, cv=kf, scoring='neg_mean_squared_error')))\n",
    "print('RMSE: ',np.sqrt(np.mean(-cross_val_score(linreg, X, y, cv=kf, scoring='neg_mean_squared_error'))))\n",
    "print('R-square score: ',np.mean(cross_val_score(linreg, X, y, cv=kf)))"
   ]
  },
  {
   "cell_type": "code",
   "execution_count": 210,
   "metadata": {},
   "outputs": [
    {
     "name": "stdout",
     "output_type": "stream",
     "text": [
      "MSE:  35.73502685224571\n",
      "RMSE:  5.97787812289994\n",
      "R-square score:  0.21970053762480127\n"
     ]
    }
   ],
   "source": [
    "#number of folds=8\n",
    "kf = model_selection.KFold(n_splits=8, shuffle=False)\n",
    "print('MSE: ',np.mean(-cross_val_score(linreg, X, y, cv=kf, scoring='neg_mean_squared_error')))\n",
    "print('RMSE: ',np.sqrt(np.mean(-cross_val_score(linreg, X, y, cv=kf, scoring='neg_mean_squared_error'))))\n",
    "print('R-square score: ',np.mean(cross_val_score(linreg, X, y, cv=kf)))"
   ]
  },
  {
   "cell_type": "code",
   "execution_count": 211,
   "metadata": {},
   "outputs": [
    {
     "name": "stdout",
     "output_type": "stream",
     "text": [
      "MSE:  34.22873433461551\n",
      "RMSE:  5.850532824847281\n",
      "R-square score:  0.3530148505169264\n"
     ]
    }
   ],
   "source": [
    "#number of folds=9\n",
    "kf = model_selection.KFold(n_splits=9, shuffle=False)\n",
    "print('MSE: ',np.mean(-cross_val_score(linreg, X, y, cv=kf, scoring='neg_mean_squared_error')))\n",
    "print('RMSE: ',np.sqrt(np.mean(-cross_val_score(linreg, X, y, cv=kf, scoring='neg_mean_squared_error'))))\n",
    "print('R-square score: ',np.mean(cross_val_score(linreg, X, y, cv=kf)))"
   ]
  },
  {
   "cell_type": "code",
   "execution_count": 141,
   "metadata": {},
   "outputs": [
    {
     "name": "stdout",
     "output_type": "stream",
     "text": [
      "RMSE:  34.39256992554469\n",
      "RMSE:  5.864517876649767\n",
      "R-square score:  0.1806775107421703\n"
     ]
    }
   ],
   "source": [
    "#number of folds=10\n",
    "kf = model_selection.KFold(n_splits=10, shuffle=False)\n",
    "print('RMSE: ',np.mean(-cross_val_score(linreg, X, y, cv=kf, scoring='neg_mean_squared_error')))\n",
    "print('RMSE: ',np.sqrt(np.mean(-cross_val_score(linreg, X, y, cv=kf, scoring='neg_mean_squared_error'))))\n",
    "print('R-square score: ',np.mean(cross_val_score(linreg, X, y, cv=kf)))"
   ]
  },
  {
   "cell_type": "markdown",
   "metadata": {},
   "source": [
    "**ANSWER:**\n",
    "\n",
    "Upon review, both 5-fold and 9-fold cross validation yielded the lowest RMSE and MSE values, but the r2 score varied across folds. It seems that 5-fold is the optimal number of folds to use. increasing the number of folds, while reducing the RMSE, also reduces the r-square score of the model (with the exception of 9-fold model)\n",
    "\n",
    "5-fold cross-validation preserves the r2 of the model, while showing to have one of the smallest RMSE and MSE values."
   ]
  },
  {
   "cell_type": "markdown",
   "metadata": {},
   "source": [
    "## BONUS\n",
    "Practice the same workflow you just worked through above, but this time use Statsmodels instead of Sklearn for linear regression. See example formulas below."
   ]
  },
  {
   "cell_type": "markdown",
   "metadata": {},
   "source": [
    "### Example: Statsmodels Formulas\n",
    "\n",
    "Adjust the formula using your chosen metrics from the housing data. Remember, your workflow here is the same, but the syntax is a little different. Describe your results. Are they comparable to scikit-learn's regression models?"
   ]
  },
  {
   "cell_type": "code",
   "execution_count": 8,
   "metadata": {},
   "outputs": [
    {
     "data": {
      "text/html": [
       "<div>\n",
       "<style>\n",
       "    .dataframe thead tr:only-child th {\n",
       "        text-align: right;\n",
       "    }\n",
       "\n",
       "    .dataframe thead th {\n",
       "        text-align: left;\n",
       "    }\n",
       "\n",
       "    .dataframe tbody tr th {\n",
       "        vertical-align: top;\n",
       "    }\n",
       "</style>\n",
       "<table border=\"1\" class=\"dataframe\">\n",
       "  <thead>\n",
       "    <tr style=\"text-align: right;\">\n",
       "      <th></th>\n",
       "      <th>CRIM</th>\n",
       "      <th>ZN</th>\n",
       "      <th>INDUS</th>\n",
       "      <th>CHAS</th>\n",
       "      <th>NOX</th>\n",
       "      <th>RM</th>\n",
       "      <th>AGE</th>\n",
       "      <th>DIS</th>\n",
       "      <th>RAD</th>\n",
       "      <th>TAX</th>\n",
       "      <th>PTRATIO</th>\n",
       "      <th>B</th>\n",
       "      <th>LSTAT</th>\n",
       "      <th>MEDV</th>\n",
       "    </tr>\n",
       "  </thead>\n",
       "  <tbody>\n",
       "    <tr>\n",
       "      <th>0</th>\n",
       "      <td>0.00632</td>\n",
       "      <td>18.0</td>\n",
       "      <td>2.31</td>\n",
       "      <td>0.0</td>\n",
       "      <td>0.538</td>\n",
       "      <td>6.575</td>\n",
       "      <td>65.2</td>\n",
       "      <td>4.0900</td>\n",
       "      <td>1.0</td>\n",
       "      <td>296.0</td>\n",
       "      <td>15.3</td>\n",
       "      <td>396.90</td>\n",
       "      <td>4.98</td>\n",
       "      <td>24.0</td>\n",
       "    </tr>\n",
       "    <tr>\n",
       "      <th>1</th>\n",
       "      <td>0.02731</td>\n",
       "      <td>0.0</td>\n",
       "      <td>7.07</td>\n",
       "      <td>0.0</td>\n",
       "      <td>0.469</td>\n",
       "      <td>6.421</td>\n",
       "      <td>78.9</td>\n",
       "      <td>4.9671</td>\n",
       "      <td>2.0</td>\n",
       "      <td>242.0</td>\n",
       "      <td>17.8</td>\n",
       "      <td>396.90</td>\n",
       "      <td>9.14</td>\n",
       "      <td>21.6</td>\n",
       "    </tr>\n",
       "    <tr>\n",
       "      <th>2</th>\n",
       "      <td>0.02729</td>\n",
       "      <td>0.0</td>\n",
       "      <td>7.07</td>\n",
       "      <td>0.0</td>\n",
       "      <td>0.469</td>\n",
       "      <td>7.185</td>\n",
       "      <td>61.1</td>\n",
       "      <td>4.9671</td>\n",
       "      <td>2.0</td>\n",
       "      <td>242.0</td>\n",
       "      <td>17.8</td>\n",
       "      <td>392.83</td>\n",
       "      <td>4.03</td>\n",
       "      <td>34.7</td>\n",
       "    </tr>\n",
       "    <tr>\n",
       "      <th>3</th>\n",
       "      <td>0.03237</td>\n",
       "      <td>0.0</td>\n",
       "      <td>2.18</td>\n",
       "      <td>0.0</td>\n",
       "      <td>0.458</td>\n",
       "      <td>6.998</td>\n",
       "      <td>45.8</td>\n",
       "      <td>6.0622</td>\n",
       "      <td>3.0</td>\n",
       "      <td>222.0</td>\n",
       "      <td>18.7</td>\n",
       "      <td>394.63</td>\n",
       "      <td>2.94</td>\n",
       "      <td>33.4</td>\n",
       "    </tr>\n",
       "    <tr>\n",
       "      <th>4</th>\n",
       "      <td>0.06905</td>\n",
       "      <td>0.0</td>\n",
       "      <td>2.18</td>\n",
       "      <td>0.0</td>\n",
       "      <td>0.458</td>\n",
       "      <td>7.147</td>\n",
       "      <td>54.2</td>\n",
       "      <td>6.0622</td>\n",
       "      <td>3.0</td>\n",
       "      <td>222.0</td>\n",
       "      <td>18.7</td>\n",
       "      <td>396.90</td>\n",
       "      <td>5.33</td>\n",
       "      <td>36.2</td>\n",
       "    </tr>\n",
       "  </tbody>\n",
       "</table>\n",
       "</div>"
      ],
      "text/plain": [
       "      CRIM    ZN  INDUS  CHAS    NOX     RM   AGE     DIS  RAD    TAX  \\\n",
       "0  0.00632  18.0   2.31   0.0  0.538  6.575  65.2  4.0900  1.0  296.0   \n",
       "1  0.02731   0.0   7.07   0.0  0.469  6.421  78.9  4.9671  2.0  242.0   \n",
       "2  0.02729   0.0   7.07   0.0  0.469  7.185  61.1  4.9671  2.0  242.0   \n",
       "3  0.03237   0.0   2.18   0.0  0.458  6.998  45.8  6.0622  3.0  222.0   \n",
       "4  0.06905   0.0   2.18   0.0  0.458  7.147  54.2  6.0622  3.0  222.0   \n",
       "\n",
       "   PTRATIO       B  LSTAT  MEDV  \n",
       "0     15.3  396.90   4.98  24.0  \n",
       "1     17.8  396.90   9.14  21.6  \n",
       "2     17.8  392.83   4.03  34.7  \n",
       "3     18.7  394.63   2.94  33.4  \n",
       "4     18.7  396.90   5.33  36.2  "
      ]
     },
     "execution_count": 8,
     "metadata": {},
     "output_type": "execute_result"
    }
   ],
   "source": [
    "# First, format your data in a DataFrame\n",
    "\n",
    "df = pd.DataFrame(boston.data, columns=boston.feature_names)\n",
    "df['MEDV'] = boston.target\n",
    "df.head()"
   ]
  },
  {
   "cell_type": "code",
   "execution_count": 9,
   "metadata": {},
   "outputs": [
    {
     "data": {
      "text/html": [
       "<table class=\"simpletable\">\n",
       "<caption>OLS Regression Results</caption>\n",
       "<tr>\n",
       "  <th>Dep. Variable:</th>          <td>MEDV</td>       <th>  R-squared:         </th> <td>   0.951</td> \n",
       "</tr>\n",
       "<tr>\n",
       "  <th>Model:</th>                   <td>OLS</td>       <th>  Adj. R-squared:    </th> <td>   0.951</td> \n",
       "</tr>\n",
       "<tr>\n",
       "  <th>Method:</th>             <td>Least Squares</td>  <th>  F-statistic:       </th> <td>   1220.</td> \n",
       "</tr>\n",
       "<tr>\n",
       "  <th>Date:</th>             <td>Wed, 29 Nov 2017</td> <th>  Prob (F-statistic):</th> <td>1.59e-321</td>\n",
       "</tr>\n",
       "<tr>\n",
       "  <th>Time:</th>                 <td>22:28:38</td>     <th>  Log-Likelihood:    </th> <td> -1567.7</td> \n",
       "</tr>\n",
       "<tr>\n",
       "  <th>No. Observations:</th>      <td>   506</td>      <th>  AIC:               </th> <td>   3151.</td> \n",
       "</tr>\n",
       "<tr>\n",
       "  <th>Df Residuals:</th>          <td>   498</td>      <th>  BIC:               </th> <td>   3185.</td> \n",
       "</tr>\n",
       "<tr>\n",
       "  <th>Df Model:</th>              <td>     8</td>      <th>                     </th>     <td> </td>    \n",
       "</tr>\n",
       "<tr>\n",
       "  <th>Covariance Type:</th>      <td>nonrobust</td>    <th>                     </th>     <td> </td>    \n",
       "</tr>\n",
       "</table>\n",
       "<table class=\"simpletable\">\n",
       "<tr>\n",
       "    <td></td>       <th>coef</th>     <th>std err</th>      <th>t</th>      <th>P>|t|</th>  <th>[0.025</th>    <th>0.975]</th>  \n",
       "</tr>\n",
       "<tr>\n",
       "  <th>RM</th>    <td>    4.9744</td> <td>    0.224</td> <td>   22.197</td> <td> 0.000</td> <td>    4.534</td> <td>    5.415</td>\n",
       "</tr>\n",
       "<tr>\n",
       "  <th>LSTAT</th> <td>   -0.5615</td> <td>    0.048</td> <td>  -11.817</td> <td> 0.000</td> <td>   -0.655</td> <td>   -0.468</td>\n",
       "</tr>\n",
       "<tr>\n",
       "  <th>RAD</th>   <td>    0.2109</td> <td>    0.070</td> <td>    3.025</td> <td> 0.003</td> <td>    0.074</td> <td>    0.348</td>\n",
       "</tr>\n",
       "<tr>\n",
       "  <th>TAX</th>   <td>   -0.0174</td> <td>    0.004</td> <td>   -4.267</td> <td> 0.000</td> <td>   -0.025</td> <td>   -0.009</td>\n",
       "</tr>\n",
       "<tr>\n",
       "  <th>NOX</th>   <td>    4.3456</td> <td>    3.385</td> <td>    1.284</td> <td> 0.200</td> <td>   -2.305</td> <td>   10.997</td>\n",
       "</tr>\n",
       "<tr>\n",
       "  <th>INDUS</th> <td>    0.0925</td> <td>    0.067</td> <td>    1.385</td> <td> 0.167</td> <td>   -0.039</td> <td>    0.224</td>\n",
       "</tr>\n",
       "<tr>\n",
       "  <th>CRIM</th>  <td>   -0.0866</td> <td>    0.037</td> <td>   -2.362</td> <td> 0.019</td> <td>   -0.159</td> <td>   -0.015</td>\n",
       "</tr>\n",
       "<tr>\n",
       "  <th>ZN</th>    <td>    0.0288</td> <td>    0.013</td> <td>    2.215</td> <td> 0.027</td> <td>    0.003</td> <td>    0.054</td>\n",
       "</tr>\n",
       "</table>\n",
       "<table class=\"simpletable\">\n",
       "<tr>\n",
       "  <th>Omnibus:</th>       <td>192.072</td> <th>  Durbin-Watson:     </th> <td>   0.812</td> \n",
       "</tr>\n",
       "<tr>\n",
       "  <th>Prob(Omnibus):</th> <td> 0.000</td>  <th>  Jarque-Bera (JB):  </th> <td> 831.634</td> \n",
       "</tr>\n",
       "<tr>\n",
       "  <th>Skew:</th>          <td> 1.665</td>  <th>  Prob(JB):          </th> <td>2.59e-181</td>\n",
       "</tr>\n",
       "<tr>\n",
       "  <th>Kurtosis:</th>      <td> 8.325</td>  <th>  Cond. No.          </th> <td>6.24e+03</td> \n",
       "</tr>\n",
       "</table>"
      ],
      "text/plain": [
       "<class 'statsmodels.iolib.summary.Summary'>\n",
       "\"\"\"\n",
       "                            OLS Regression Results                            \n",
       "==============================================================================\n",
       "Dep. Variable:                   MEDV   R-squared:                       0.951\n",
       "Model:                            OLS   Adj. R-squared:                  0.951\n",
       "Method:                 Least Squares   F-statistic:                     1220.\n",
       "Date:                Wed, 29 Nov 2017   Prob (F-statistic):          1.59e-321\n",
       "Time:                        22:28:38   Log-Likelihood:                -1567.7\n",
       "No. Observations:                 506   AIC:                             3151.\n",
       "Df Residuals:                     498   BIC:                             3185.\n",
       "Df Model:                           8                                         \n",
       "Covariance Type:            nonrobust                                         \n",
       "==============================================================================\n",
       "                 coef    std err          t      P>|t|      [0.025      0.975]\n",
       "------------------------------------------------------------------------------\n",
       "RM             4.9744      0.224     22.197      0.000       4.534       5.415\n",
       "LSTAT         -0.5615      0.048    -11.817      0.000      -0.655      -0.468\n",
       "RAD            0.2109      0.070      3.025      0.003       0.074       0.348\n",
       "TAX           -0.0174      0.004     -4.267      0.000      -0.025      -0.009\n",
       "NOX            4.3456      3.385      1.284      0.200      -2.305      10.997\n",
       "INDUS          0.0925      0.067      1.385      0.167      -0.039       0.224\n",
       "CRIM          -0.0866      0.037     -2.362      0.019      -0.159      -0.015\n",
       "ZN             0.0288      0.013      2.215      0.027       0.003       0.054\n",
       "==============================================================================\n",
       "Omnibus:                      192.072   Durbin-Watson:                   0.812\n",
       "Prob(Omnibus):                  0.000   Jarque-Bera (JB):              831.634\n",
       "Skew:                           1.665   Prob(JB):                    2.59e-181\n",
       "Kurtosis:                       8.325   Cond. No.                     6.24e+03\n",
       "==============================================================================\n",
       "\n",
       "Warnings:\n",
       "[1] Standard Errors assume that the covariance matrix of the errors is correctly specified.\n",
       "[2] The condition number is large, 6.24e+03. This might indicate that there are\n",
       "strong multicollinearity or other numerical problems.\n",
       "\"\"\""
      ]
     },
     "execution_count": 9,
     "metadata": {},
     "output_type": "execute_result"
    }
   ],
   "source": [
    "# Set up your new statsmodel.formula handling model\n",
    "import statsmodels.formula.api as smf\n",
    "\n",
    "# You can easily swap these out to test multiple versions/different formulas\n",
    "formulas = {\n",
    "    \"case1\": \"MEDV ~ RM + LSTAT + RAD + TAX + NOX + INDUS + CRIM + ZN - 1\", # - 1 = remove intercept\n",
    "    \"case2\": \"MEDV ~ NOX + RM\",\n",
    "    \"case3\": \"MEDV ~ RAD + TAX\"\n",
    "}\n",
    "\n",
    "model = smf.ols(formula=formulas['case1'], data=df)\n",
    "result = model.fit()\n",
    "\n",
    "result.summary()"
   ]
  },
  {
   "cell_type": "markdown",
   "metadata": {},
   "source": [
    "### BONUS:\n",
    "\n",
    "Can you optimize your R2, selecting the best features? Provide your code and explain your process in a brief written response."
   ]
  },
  {
   "cell_type": "code",
   "execution_count": null,
   "metadata": {
    "collapsed": true
   },
   "outputs": [],
   "source": []
  },
  {
   "cell_type": "markdown",
   "metadata": {},
   "source": [
    "### BONUS:\n",
    "\n",
    "Given a combination of predictors, can you identify another response variable that could be accurately predicted through the exploration of different predictors in this data set?\n",
    "\n",
    "_Tip: Consider pairplots, coefficients, or Pearson scores._"
   ]
  },
  {
   "cell_type": "code",
   "execution_count": 10,
   "metadata": {},
   "outputs": [
    {
     "data": {
      "text/plain": [
       "<seaborn.axisgrid.PairGrid at 0x1095918d0>"
      ]
     },
     "execution_count": 10,
     "metadata": {},
     "output_type": "execute_result"
    },
    {
     "data": {
      "text/plain": [
       "<matplotlib.figure.Figure at 0x115e5af60>"
      ]
     },
     "metadata": {},
     "output_type": "display_data"
    }
   ],
   "source": [
    "# Check out variable relations\n",
    "import seaborn as sns\n",
    "\n",
    "sns.pairplot(X);"
   ]
  },
  {
   "cell_type": "code",
   "execution_count": null,
   "metadata": {
    "collapsed": true
   },
   "outputs": [],
   "source": [
    "# Check out Pearson scores\n"
   ]
  },
  {
   "cell_type": "markdown",
   "metadata": {},
   "source": [
    "## BONUS/DEMO: Up for an additional challenge? Try again, this time using the `patsy` library."
   ]
  },
  {
   "cell_type": "code",
   "execution_count": 11,
   "metadata": {
    "collapsed": true
   },
   "outputs": [],
   "source": [
    "import patsy\n",
    "\n",
    "# Add response to the core DataFrame\n",
    "df['MEDV'] = y"
   ]
  },
  {
   "cell_type": "code",
   "execution_count": 12,
   "metadata": {
    "collapsed": true
   },
   "outputs": [],
   "source": [
    "from sklearn.model_selection import train_test_split  #Note: if you didn't import this earlier, you'll need to do so now\n",
    "\n",
    "# Easily change your variable predictors without reslicing your DataFrame\n",
    "y, X = patsy.dmatrices(\"MEDV ~ AGE + RM\", data=df, return_type=\"dataframe\")\n",
    "\n",
    "X_train, X_test, y_train, y_test = train_test_split(X, y, train_size=.7)\n"
   ]
  },
  {
   "cell_type": "code",
   "execution_count": 13,
   "metadata": {},
   "outputs": [
    {
     "name": "stdout",
     "output_type": "stream",
     "text": [
      "R^2 Score: 0.5043486813354807\n"
     ]
    }
   ],
   "source": [
    "from sklearn import metrics\n",
    "from sklearn.linear_model import LinearRegression\n",
    "\n",
    "# Rerun your model, iteratively changing your variables and train_size from the previous cell\n",
    "\n",
    "lm = LinearRegression()\n",
    "model = lm.fit(X_train, y_train)\n",
    "\n",
    "predictions = model.predict(X_test)\n",
    "print(\"R^2 Score: {}\".format(metrics.r2_score(y_test, predictions)))"
   ]
  },
  {
   "cell_type": "code",
   "execution_count": null,
   "metadata": {
    "collapsed": true
   },
   "outputs": [],
   "source": []
  }
 ],
 "metadata": {
  "anaconda-cloud": {},
  "kernelspec": {
   "display_name": "Python 3 (ipykernel)",
   "language": "python",
   "name": "python3"
  },
  "language_info": {
   "codemirror_mode": {
    "name": "ipython",
    "version": 3
   },
   "file_extension": ".py",
   "mimetype": "text/x-python",
   "name": "python",
   "nbconvert_exporter": "python",
   "pygments_lexer": "ipython3",
   "version": "3.9.12"
  }
 },
 "nbformat": 4,
 "nbformat_minor": 1
}
