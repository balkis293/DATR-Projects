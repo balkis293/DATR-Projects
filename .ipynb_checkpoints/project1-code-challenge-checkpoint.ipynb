{
 "cells": [
  {
   "cell_type": "markdown",
   "metadata": {},
   "source": [
    "<img src=\"http://imgur.com/1ZcRyrc.png\" style=\"float: left; margin: 20px; height: 55px\">\n",
    "\n",
    "# Project 1: Python Coding Exercises\n",
    "\n",
    "_Authors: Joseph Nelson (DC) _\n",
    "\n",
    "---"
   ]
  },
  {
   "cell_type": "markdown",
   "metadata": {},
   "source": [
    "The following code challenges are drawn from common exercises used in technical interviews.\n",
    "\n",
    "Please note that there may be several ways to approach each challenge. If you get stuck, try mapping out your approach in pseudocode first. Finally, while solutions to problems like these may be found online, remember that if you copy/paste code that you can't explain, you'll be missing out on the point of the project. The only way to truly learn a new skill is through practice, trial, and error - we can only help you improve by understanding where you are having trouble."
   ]
  },
  {
   "cell_type": "markdown",
   "metadata": {},
   "source": [
    "### Challenge 1: Largest Palindrome\n",
    "A palindromic number reads the same both ways. For example, 1234321 is a palindrome. The largest palindrome made from the product of two two-digit numbers is 9009 = 91 × 99. Find the largest palindrome made from the product of two three-digit numbers. Afterward, write a brief explanation walking through your code's logic in markdown."
   ]
  },
  {
   "cell_type": "code",
   "execution_count": 4,
   "metadata": {},
   "outputs": [
    {
     "name": "stdout",
     "output_type": "stream",
     "text": [
      "906609\n"
     ]
    }
   ],
   "source": [
    "n=100\n",
    "for a in range(100,999,1): #loop between 100 to 999 for 1st integer\n",
    "    for b in range(100,999,1): #loop between 100 to 999 for 2nd integer\n",
    "        test=a*b #multiply both integers\n",
    "        if test>n: #check if they are the next biggest vaue \n",
    "            check=list(str(test)) #convert val to string to list\n",
    "            if check==check[::-1]: #if list forward = list backward \n",
    "                n=a*b #replace n if palindrome\n",
    "\n",
    "print(n)"
   ]
  },
  {
   "cell_type": "markdown",
   "metadata": {},
   "source": [
    "Answer: looks for combination of product of 3 digit integers between 100-999, the code looks for product of the 2 numbers that is sequentially higher than the last. the product is converted to a list of string format of the interger product obtained, and tested to see if the list is the same forward and backward, the value input to determine this list value is used as the new n. the test continues until the largest such value is identified."
   ]
  },
  {
   "cell_type": "markdown",
   "metadata": {},
   "source": [
    "\n",
    "### Challenge 2: Summation of Primes\n",
    "The sum of the primes below 10 is 2 + 3 + 5 + 7 = 17. Find the sum of all the primes below 2,000. Afterward, write a brief explanation walking through your code's logic in markdown."
   ]
  },
  {
   "cell_type": "code",
   "execution_count": 2,
   "metadata": {},
   "outputs": [
    {
     "name": "stdout",
     "output_type": "stream",
     "text": [
      "24\n"
     ]
    }
   ],
   "source": [
    "test=10\n",
    "checklist=[]\n",
    "sumx=0\n",
    "for num in range(2,test):\n",
    "    for i in range(2,num):\n",
    "        if (int(num%i)==0):\n",
    "            i=num\n",
    "            break\n",
    "        if i is not num:\n",
    "            checklist.append(num)\n",
    "            \n",
    "#print(checklist) >> contains a lot of dups\n",
    "checklist1=sorted(list(set(checklist)))\n",
    "#print(checklist1)\n",
    "for item in checklist1:\n",
    "    sumx+=item\n",
    "print(sumx)"
   ]
  },
  {
   "cell_type": "markdown",
   "metadata": {},
   "source": [
    "Answer: Runs a looped number from 2 to test input value, and identifies if the looped number is divisible by any number between 2 and looped number. if the number is divisible, it is not a prime number, the number is added to a list. items in this list are summed. "
   ]
  },
  {
   "cell_type": "markdown",
   "metadata": {},
   "source": [
    "### Challenge 3: Multiples of 3 and 5\n",
    "If we list all of the natural numbers below 10 that are multiples of 3 or 5, we get 3, 5, 6, and 9. The sum of these multiples is 23. Find the sum of all the multiples of 3 and 5 below 1,000. Afterward, write a brief explanation walking through your code's logic in markdown."
   ]
  },
  {
   "cell_type": "code",
   "execution_count": 106,
   "metadata": {},
   "outputs": [
    {
     "name": "stdout",
     "output_type": "stream",
     "text": [
      "[0, 3, 5, 6, 9, 10, 12, 15, 18, 20, 21, 24, 25, 27, 30, 33, 35, 36, 39, 40, 42, 45, 48, 50, 51, 54, 55, 57, 60, 63, 65, 66, 69, 70, 72, 75, 78, 80, 81, 84, 85, 87, 90, 93, 95, 96, 99, 100, 102, 105, 108, 110, 111, 114, 115, 117, 120, 123, 125, 126, 129, 130, 132, 135, 138, 140, 141, 144, 145, 147, 150, 153, 155, 156, 159, 160, 162, 165, 168, 170, 171, 174, 175, 177, 180, 183, 185, 186, 189, 190, 192, 195, 198, 200, 201, 204, 205, 207, 210, 213, 215, 216, 219, 220, 222, 225, 228, 230, 231, 234, 235, 237, 240, 243, 245, 246, 249, 250, 252, 255, 258, 260, 261, 264, 265, 267, 270, 273, 275, 276, 279, 280, 282, 285, 288, 290, 291, 294, 295, 297, 300, 303, 305, 306, 309, 310, 312, 315, 318, 320, 321, 324, 325, 327, 330, 333, 335, 336, 339, 340, 342, 345, 348, 350, 351, 354, 355, 357, 360, 363, 365, 366, 369, 370, 372, 375, 378, 380, 381, 384, 385, 387, 390, 393, 395, 396, 399, 400, 402, 405, 408, 410, 411, 414, 415, 417, 420, 423, 425, 426, 429, 430, 432, 435, 438, 440, 441, 444, 445, 447, 450, 453, 455, 456, 459, 460, 462, 465, 468, 470, 471, 474, 475, 477, 480, 483, 485, 486, 489, 490, 492, 495, 498, 500, 501, 504, 505, 507, 510, 513, 515, 516, 519, 520, 522, 525, 528, 530, 531, 534, 535, 537, 540, 543, 545, 546, 549, 550, 552, 555, 558, 560, 561, 564, 565, 567, 570, 573, 575, 576, 579, 580, 582, 585, 588, 590, 591, 594, 595, 597, 600, 603, 605, 606, 609, 610, 612, 615, 618, 620, 621, 624, 625, 627, 630, 633, 635, 636, 639, 640, 642, 645, 648, 650, 651, 654, 655, 657, 660, 663, 665, 666, 669, 670, 672, 675, 678, 680, 681, 684, 685, 687, 690, 693, 695, 696, 699, 700, 702, 705, 708, 710, 711, 714, 715, 717, 720, 723, 725, 726, 729, 730, 732, 735, 738, 740, 741, 744, 745, 747, 750, 753, 755, 756, 759, 760, 762, 765, 768, 770, 771, 774, 775, 777, 780, 783, 785, 786, 789, 790, 792, 795, 798, 800, 801, 804, 805, 807, 810, 813, 815, 816, 819, 820, 822, 825, 828, 830, 831, 834, 835, 837, 840, 843, 845, 846, 849, 850, 852, 855, 858, 860, 861, 864, 865, 867, 870, 873, 875, 876, 879, 880, 882, 885, 888, 890, 891, 894, 895, 897, 900, 903, 905, 906, 909, 910, 912, 915, 918, 920, 921, 924, 925, 927, 930, 933, 935, 936, 939, 940, 942, 945, 948, 950, 951, 954, 955, 957, 960, 963, 965, 966, 969, 970, 972, 975, 978, 980, 981, 984, 985, 987, 990, 993, 995, 996, 999]\n",
      "233168\n"
     ]
    }
   ],
   "source": [
    "test=1000\n",
    "x=0\n",
    "num=0\n",
    "listof3and5=[]\n",
    "while num<test: #as long as num is less than test, starts at 1\n",
    "    for i in range(0,test): #loop through 0 to test value \n",
    "        if i%3==0: #if i is divisible by 3, then add to num, and add to list\n",
    "            num+=i\n",
    "            listof3and5.append(i)\n",
    "        elif i%5==0: #if i is divisible by 5, then add to num, and add to list\n",
    "            num+=i\n",
    "            listof3and5.append(i) \n",
    "        elif i%(3*5)==0: #if i is divisible by 15, then add to num, and add to list\n",
    "            num+=i\n",
    "            listof3and5.append(i)\n",
    "        else:\n",
    "            num+=1\n",
    "#print(listof3and5)\n",
    "finalval=sum(listof3and5)\n",
    "print(finalval)"
   ]
  },
  {
   "cell_type": "code",
   "execution_count": null,
   "metadata": {},
   "outputs": [],
   "source": []
  },
  {
   "cell_type": "markdown",
   "metadata": {},
   "source": [
    "Answer: based on a input value, the program tests if the number if divisible by 3, and 5. if divisible, the number is added to a list. the list is summed to derive a final value. "
   ]
  },
  {
   "cell_type": "markdown",
   "metadata": {},
   "source": [
    "### Challenge 4: String Compressor\n",
    "Implement a method to perform basic string compression using the counts of repeated characters. (This is called run-length encoding.) For example, the string \"aabcccccaaa\" would become a2b1c5a3. If the “compressed” string would not become smaller than the original string, your method should return the original string. You can assume the string has only uppercase and lowercase letters (a–z). Specify whether your solution is case sensitive or case insensitive and what you would need to change to make it the other. Afterward, write a brief explanation walking through your code's logic in markdown."
   ]
  },
  {
   "cell_type": "code",
   "execution_count": 4,
   "metadata": {},
   "outputs": [
    {
     "data": {
      "text/plain": [
       "'a5b1c5'"
      ]
     },
     "execution_count": 4,
     "metadata": {},
     "output_type": "execute_result"
    }
   ],
   "source": [
    "string='aabcccccaaa'\n",
    "stringwithoutdup=sorted(list(set(string)))\n",
    "retstr=[]\n",
    "for i in stringwithoutdup:\n",
    "    sumi=string.count(i)\n",
    "    retstr.append(str(i))\n",
    "    retstr.append(str(sumi))\n",
    "''.join(retstr)"
   ]
  },
  {
   "cell_type": "code",
   "execution_count": 17,
   "metadata": {},
   "outputs": [
    {
     "data": {
      "text/plain": [
       "['a', 'b', '1', 'c', '1', 'a', '5']"
      ]
     },
     "execution_count": 17,
     "metadata": {},
     "output_type": "execute_result"
    }
   ],
   "source": [
    "#TESTCODE2: \n",
    "#string='aabcccccaaa'\n",
    "#string2=list(string)\n",
    "#newlist=[]\n",
    "#newlist.append(string[0]) #append first char in string2\n",
    "#count=1 #inclusion of first char, or identified char \n",
    "#for i in range(1,len(string2)): #loop thru index in string2\n",
    "    #try:\n",
    "        #if string2[i]==string2[i+1]: #compare index and the next index, if same\n",
    "            #count+=1 #add 1 count as it loops through \n",
    "        #else:\n",
    "            #count+=0\n",
    "            #newlist.append(string2[i+1])\n",
    "            #newlist.append(str(count))\n",
    "            #continue\n",
    "    #except:\n",
    "       #pass\n",
    "\n",
    "#newlist"
   ]
  },
  {
   "cell_type": "code",
   "execution_count": 8,
   "metadata": {},
   "outputs": [
    {
     "data": {
      "text/plain": [
       "'a2b1c4a2e3A3'"
      ]
     },
     "execution_count": 8,
     "metadata": {},
     "output_type": "execute_result"
    }
   ],
   "source": [
    "stringoriginal='aabccccaaeeeAAA'\n",
    "string=stringoriginal+'    '\n",
    "string2=list(string)\n",
    "newlist=[]\n",
    "for i in range(0,len(string2)): #concantenate the each char type (e.g. aa, aab etc.)\n",
    "    try:\n",
    "        if string[i]!=string[i+1]:\n",
    "            tray=string[:i+1]\n",
    "            newlist.append(tray)\n",
    "    except:\n",
    "        \"done\" #error management if index reaches the length of string\n",
    "#print(newlist)\n",
    "newlist2=[]\n",
    "newlist2.append(newlist[0]) #add the first item e.g. aa\n",
    "for i in range(1,len(newlist)): #loop from 2nd item onwards\n",
    "    prevl=len(newlist[i-1]) #length of prev item e.g. 2\n",
    "    newlist2.append(newlist[i][prevl:]) #split current item from length of prev item onwards e.g. from 3 onwards\n",
    "#print(newlist2) #separating original string into separate items, for counting\n",
    "final_list=[]\n",
    "for item in newlist2: \n",
    "    final_list.append(item[0])\n",
    "    final_list.append(str(len(item)))\n",
    "#print(final_list)\n",
    "''.join(final_list) #compressing string\n",
    "\n",
    "#Yes, the solution is case-sensitive. to make it case insensitive, an intermediate transformation can be done with .lower() to enable the code to read the original string despite the case of string\n"
   ]
  },
  {
   "cell_type": "markdown",
   "metadata": {},
   "source": [
    "Answer: The aim of this program is to split characters sequentially if they repeat in string. Once the original string is split, each spliced string is counted for number of times the character in string is repeated. then each char type is counted and joined together. \n",
    "\n",
    "Yes, the solution is case-sensitive. to make it case insensitive, an intermediate transformation can be done with .lower() to enable the code to read the original string despite the case of string\n"
   ]
  },
  {
   "cell_type": "markdown",
   "metadata": {},
   "source": [
    "### *BONUS* Challenge: FizzBuzz\n",
    "Write a program that prints all of the numbers from 1 to 100. For multiples of 3, instead of the number, print \"Fizz;\" for multiples of 5, print \"Buzz.\" For numbers that are multiples of both 3 and 5, print \"FizzBuzz.\" Afterward, write a brief explanation walking through your code's logic in markdown."
   ]
  },
  {
   "cell_type": "code",
   "execution_count": null,
   "metadata": {
    "collapsed": true
   },
   "outputs": [],
   "source": []
  }
 ],
 "metadata": {
  "anaconda-cloud": {},
  "kernelspec": {
   "display_name": "Python 3 (ipykernel)",
   "language": "python",
   "name": "python3"
  },
  "language_info": {
   "codemirror_mode": {
    "name": "ipython",
    "version": 3
   },
   "file_extension": ".py",
   "mimetype": "text/x-python",
   "name": "python",
   "nbconvert_exporter": "python",
   "pygments_lexer": "ipython3",
   "version": "3.9.12"
  }
 },
 "nbformat": 4,
 "nbformat_minor": 2
}
